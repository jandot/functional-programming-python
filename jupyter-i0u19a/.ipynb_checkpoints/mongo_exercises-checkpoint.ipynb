{
 "cells": [
  {
   "cell_type": "markdown",
   "metadata": {},
   "source": [
    "### i0u19a - Data Processing - KU Leuven\n",
    "\n",
    "# Python Mongo exercises\n",
    "\n",
    "###### _Thomas Moerman, Jan Aerts_\n",
    "\n",
    "![license](https://licensebuttons.net/l/by/3.0/88x31.png)"
   ]
  },
  {
   "cell_type": "markdown",
   "metadata": {},
   "source": [
    "Hello and welcome to the tutorial on data processing with **Mongo DB**!\n",
    "Before proceeding, make sure to have the mongo server running as well, e.g with `docker run -d -p 27017:27017 -p 28017:28017 jandot/mongo-i0u19a`\n",
    "\n",
    "We'll be using Jupyter notebook again (you're looking at it) as a tool to walk you through a few examples. At the VDA-LAB, we like notebooks as a teaching tool because they allow you to experiment with code and data as you work your way through the document.\n",
    "\n",
    "A few guidelines on the notebook itself:\n",
    "* A notebook consists of *cells*, which are snippets of either text (markdown) or code (Python in this case).\n",
    "* Cells can be executed by clicking the `[>]` \"play\" button, or by hitting shift-enter on the keyboard.\n",
    "* You can navigate between cells either by clicking or by using the arrow buttons.\n",
    "\n",
    "### Documentation\n",
    "\n",
    "Check this [PyMongo Tutorial blog bost](http://connor-johnson.com/2014/08/17/getting-started-with-mongodb-and-python/).\n",
    "\n",
    "PyMongo API documentation:\n",
    "* http://api.mongodb.org/python/current/index.html#overview\n",
    "* http://api.mongodb.org/python/current/tutorial.html"
   ]
  },
  {
   "cell_type": "markdown",
   "metadata": {},
   "source": [
    "# Mongo client setup\n",
    "\n",
    "We need a MongoClient to connect to a remote Mongo database. We connect to a mongo server node prepared with databases for this exercise session."
   ]
  },
  {
   "cell_type": "code",
   "execution_count": null,
   "metadata": {
    "collapsed": true
   },
   "outputs": [],
   "source": [
    "from pymongo import MongoClient\n",
    "\n",
    "# connect to the mongo server running on your local machine\n",
    "docker_machine_ip = '192.168.99.100' # you might have a different IP, see docker-image IP\n",
    "client = MongoClient(docker_machine_ip, 27017)"
   ]
  },
  {
   "cell_type": "code",
   "execution_count": null,
   "metadata": {
    "collapsed": false
   },
   "outputs": [],
   "source": [
    "client.database_names()"
   ]
  },
  {
   "cell_type": "markdown",
   "metadata": {},
   "source": [
    "Let's connect to the i0u19a database."
   ]
  },
  {
   "cell_type": "code",
   "execution_count": null,
   "metadata": {
    "collapsed": false
   },
   "outputs": [],
   "source": [
    "db = client.i0u19a"
   ]
  },
  {
   "cell_type": "markdown",
   "metadata": {},
   "source": [
    "Let's check which collections are present in the database."
   ]
  },
  {
   "cell_type": "code",
   "execution_count": null,
   "metadata": {
    "collapsed": false
   },
   "outputs": [],
   "source": [
    "db.collection_names()"
   ]
  },
  {
   "cell_type": "markdown",
   "metadata": {},
   "source": [
    "It contains our familiar 'beers' collection, let's check what's in it"
   ]
  },
  {
   "cell_type": "code",
   "execution_count": null,
   "metadata": {
    "collapsed": false
   },
   "outputs": [],
   "source": [
    "db.beers.find_one()"
   ]
  },
  {
   "cell_type": "markdown",
   "metadata": {},
   "source": [
    "Great! Let's continue with some exercises.\n",
    "\n",
    "# Exercises\n",
    "\n",
    "We will do the exercises defined in: http://vda-lab.github.io/2016/04/mongodb-exercises."
   ]
  },
  {
   "cell_type": "markdown",
   "metadata": {},
   "source": [
    "## 1. Warm-up exercises\n",
    "\n",
    "### 1.a How many beers are there in the database?"
   ]
  },
  {
   "cell_type": "code",
   "execution_count": null,
   "metadata": {
    "collapsed": false
   },
   "outputs": [],
   "source": [
    "nr_beers = # complete this\n",
    "\n",
    "nr_beers"
   ]
  },
  {
   "cell_type": "code",
   "execution_count": null,
   "metadata": {
    "collapsed": true
   },
   "outputs": [],
   "source": [
    "assert nr_beers == 1691, \"incorrect nr beers: %s\" % nr_beers"
   ]
  },
  {
   "cell_type": "markdown",
   "metadata": {},
   "source": [
    "### 1.b. Return the first 5 beers.\n",
    "\n",
    "Working with a result set is slightly different than in the Mongo shell. When executing operations like `find()`, pymongo returns a `cursor`."
   ]
  },
  {
   "cell_type": "code",
   "execution_count": null,
   "metadata": {
    "collapsed": false
   },
   "outputs": [],
   "source": [
    "db.beers.find()"
   ]
  },
  {
   "cell_type": "markdown",
   "metadata": {},
   "source": [
    "A cursor is an interface to a collection that supports Python's \"slice\" operator, to select a range of results we are interested in. Slicing is a common operation in Python, for example:"
   ]
  },
  {
   "cell_type": "code",
   "execution_count": null,
   "metadata": {
    "collapsed": false
   },
   "outputs": [],
   "source": [
    "int_list = (1, 2, 3, 4, 5, 6, 7, 8, 9, 10)\n",
    "\n",
    "int_list[0:3]"
   ]
  },
  {
   "cell_type": "markdown",
   "metadata": {},
   "source": [
    "Now use the slice operator to select the first 5 beers"
   ]
  },
  {
   "cell_type": "code",
   "execution_count": null,
   "metadata": {
    "collapsed": false
   },
   "outputs": [],
   "source": [
    "first_5_beers_cursor = db.beers.find(... # complete this\n",
    "\n",
    "# read the items from the cursor into a list\n",
    "first_5_beers = list(first_5_beers_cursor)\n",
    "\n",
    "first_5_beers"
   ]
  },
  {
   "cell_type": "code",
   "execution_count": null,
   "metadata": {
    "collapsed": true
   },
   "outputs": [],
   "source": [
    "assert 5 == len(first_5_beers), \"incorrect number of beers: %s\" % len(first_5_beers)"
   ]
  },
  {
   "cell_type": "markdown",
   "metadata": {},
   "source": [
    "### 1.c How many beers in the database are of type 'blond troebel'?\n",
    "\n",
    "Provide the `find(...)` method with a filter criterion."
   ]
  },
  {
   "cell_type": "code",
   "execution_count": null,
   "metadata": {
    "collapsed": false
   },
   "outputs": [],
   "source": [
    "nr_blond_troebel = db.beers.find(... # complete this\n",
    "\n",
    "nr_blond_troebel"
   ]
  },
  {
   "cell_type": "code",
   "execution_count": null,
   "metadata": {
    "collapsed": true
   },
   "outputs": [],
   "source": [
    "assert 1 == nr_blond_troebel, \"Incorrect result for nr of 'blond troebel' beers: %s\" % nr_blond_troebel "
   ]
  },
  {
   "cell_type": "markdown",
   "metadata": {},
   "source": [
    "### 1.d Of these â€œblond troebelâ€ beers, only return the name of the beer.\n",
    "\n",
    "Provide the `find(...)` with a filter criterion and a projection."
   ]
  },
  {
   "cell_type": "code",
   "execution_count": null,
   "metadata": {
    "collapsed": false
   },
   "outputs": [],
   "source": [
    "troebel_blond_cursor = db.beers.find(... # complete this\n",
    "\n",
    "troebel_blond_names = list(troebel_blond_cursor)\n",
    "\n",
    "troebel_blond_names"
   ]
  },
  {
   "cell_type": "markdown",
   "metadata": {},
   "source": [
    "NOTE: make sure that the item IDs are not included in the result!"
   ]
  },
  {
   "cell_type": "code",
   "execution_count": null,
   "metadata": {
    "collapsed": false
   },
   "outputs": [],
   "source": [
    "troebel_blond_tuple_lengths = list(len(b) for b in troebel_blond_names)\n",
    "\n",
    "assert (troebel_blond_tuple_lengths[0] == 1 and len(set(troebel_blond_tuple_lengths)) == 1), \"incorrect projection\""
   ]
  },
  {
   "cell_type": "markdown",
   "metadata": {},
   "source": [
    "### 1.e How many beers have a percentage alcohol of more than 8 degrees?\n",
    "\n",
    "Provide the find(...) method with the correct filter predicate."
   ]
  },
  {
   "cell_type": "code",
   "execution_count": null,
   "metadata": {
    "collapsed": false
   },
   "outputs": [],
   "source": [
    "nr_strong_beers = db.beers.find(... # complete this\n",
    "\n",
    "nr_strong_beers"
   ]
  },
  {
   "cell_type": "code",
   "execution_count": null,
   "metadata": {
    "collapsed": false
   },
   "outputs": [],
   "source": [
    "assert 399 == nr_strong_beers, \"incorrect nr of strong beers: %s\" % nr_strong_beers"
   ]
  },
  {
   "cell_type": "markdown",
   "metadata": {},
   "source": [
    "### 1.f How many beers have low alcohol (â€œalcoholarmâ€)?\n",
    "\n",
    "Provide the find(...) method with the correct filter predicate."
   ]
  },
  {
   "cell_type": "code",
   "execution_count": null,
   "metadata": {
    "collapsed": false
   },
   "outputs": [],
   "source": [
    "nr_lemonades = db.beers.find(... # complete this\n",
    "\n",
    "nr_lemonades"
   ]
  },
  {
   "cell_type": "code",
   "execution_count": null,
   "metadata": {
    "collapsed": true
   },
   "outputs": [],
   "source": [
    "assert 6 == nr_lemonades, \"incorrect nr of low alcohol beers: %s\" % nr_lemonades"
   ]
  },
  {
   "cell_type": "markdown",
   "metadata": {},
   "source": [
    "## 2. Aggregation pipeline exercises\n",
    "\n",
    "Alrightie, we have learned some basic Mongo chops, let's now move on to one of Mongo DB's swiss army knife operators for data wrangling: the `aggregate` pipeline.\n",
    "\n",
    "Check out the documentation here:\n",
    "https://docs.mongodb.org/manual/reference/operator/aggregation-pipeline/.\n",
    "\n",
    "We pass `aggregate` a list of pipeline commands, the data is sequentially operated upon by each command.\n",
    "\n",
    "For example, letâ€™s select those beers that have a percentage of more than 8 degrees, get the average of these per brewery, and finally take a sample:"
   ]
  },
  {
   "cell_type": "code",
   "execution_count": null,
   "metadata": {
    "collapsed": false
   },
   "outputs": [],
   "source": [
    "# notice the $ signs !\n",
    "\n",
    "avg_strong_per_brewery_cursor = db.beers.aggregate([\n",
    "  {'$match': {'alcoholpercentage': {'$gt': 8}}},\n",
    "  {'$group': {'_id': '$brewery', 'avg': {'$avg': '$alcoholpercentage'}}},\n",
    "  {'$sample': {'size': 5}}\n",
    "])\n",
    "\n",
    "list(avg_strong_per_brewery_cursor)"
   ]
  },
  {
   "cell_type": "markdown",
   "metadata": {},
   "source": [
    "We provided `aggregate` with a pipeline like this:\n",
    "\n",
    "```\n",
    "          +--------+     +--------+     +---------+\n",
    "INPUT --> | $match | --> | $group | --> | $sample | --> RESULT\n",
    "          +--------+     +--------+     +---------+\n",
    "```\n",
    "\n",
    "You can specify pipelines of arbitrary length and complexity, using different commands like (but not limited to):\n",
    "\n",
    "* `$project`: reshape each document\n",
    "* `$match`: filter the stream\n",
    "* `$limit`: return only the first n documents\n",
    "* `$unwind`: deconstruct a list in each document into separate documents\n",
    "* `$group`: group documents by a given identifier\n",
    "* `$sort`: reorder the document stream by a specified sort key\n",
    "* `$sample`: take a random sample\n",
    "* `$out`: write the results to a new collection. If used, this should be the last step of the pipeline.\n",
    "\n",
    "Good, now proceed and wrangle your data `aggregate`-style!"
   ]
  },
  {
   "cell_type": "markdown",
   "metadata": {},
   "source": [
    "### 2.a What is the average alcoholpercentage per brewery?"
   ]
  },
  {
   "cell_type": "code",
   "execution_count": null,
   "metadata": {
    "collapsed": false
   },
   "outputs": [],
   "source": [
    "avg_pct_per_brewery_cursor = db.beers.aggregate([\n",
    "        # complete this\n",
    "    ])\n",
    "\n",
    "avg_pct_per_brewery = list(avg_pct_per_brewery_cursor)\n",
    "\n",
    "avg_pct_per_brewery"
   ]
  },
  {
   "cell_type": "code",
   "execution_count": null,
   "metadata": {
    "collapsed": false
   },
   "outputs": [],
   "source": [
    "# Verify by checking AB Inbev's average percentage.\n",
    "\n",
    "AB_Inbev_avg = next(b.get('avg') for b in avg_pct_per_brewery if b.get('_id') == \"AB Inbev\")\n",
    "\n",
    "assert 5.2 == AB_Inbev_avg, \"incorrect average alcohol percentage for AB Inbev: %s\" % AB_Inbev_avg"
   ]
  },
  {
   "cell_type": "markdown",
   "metadata": {},
   "source": [
    "### 2.b Which breweries have an average alcohol percentage higher than 10 degrees?\n",
    "\n",
    "Return these in descending order of alcoholpercentage."
   ]
  },
  {
   "cell_type": "code",
   "execution_count": null,
   "metadata": {
    "collapsed": false
   },
   "outputs": [],
   "source": [
    "avg_gt_10_per_brewery_cursor = db.beers.aggregate([\n",
    "        # complete this\n",
    "    ])\n",
    "\n",
    "avg_gt_10_per_brewery = list(avg_gt_10_per_brewery_cursor)\n",
    "\n",
    "avg_gt_10_per_brewery"
   ]
  },
  {
   "cell_type": "code",
   "execution_count": null,
   "metadata": {
    "collapsed": false
   },
   "outputs": [],
   "source": [
    "assert 4 == len(avg_gt_10_per_brewery), \"incorrect nr of breweries with average alcohol percentage > 10: %s\" % len(avg_gt_10_per_brewery)\n",
    "\n",
    "assert 'Staminee De Garre (Brouwerij Van Steenberge)' == avg_gt_10_per_brewery[0]['_id'], \"incorrect top brewery\""
   ]
  },
  {
   "cell_type": "markdown",
   "metadata": {},
   "source": [
    "### 2.c What is the average alcoholpercentage per type of beer? \n",
    "\n",
    "Sort by alcoholpercentage (descending).\n",
    "\n",
    "**HINT**: beers can have more than one type, check the list of pipeline commands again to find a command that helps dealing with this."
   ]
  },
  {
   "cell_type": "code",
   "execution_count": null,
   "metadata": {
    "collapsed": false
   },
   "outputs": [],
   "source": [
    "avg_per_type_cursor = db.beers.aggregate([\n",
    "        # complete this\n",
    "    ])\n",
    "\n",
    "avg_per_type = list(avg_per_type_cursor)\n",
    "\n",
    "avg_per_type"
   ]
  },
  {
   "cell_type": "code",
   "execution_count": null,
   "metadata": {
    "collapsed": false
   },
   "outputs": [],
   "source": [
    "assert 'Eisbockmethode' == avg_per_type[0]['_id'], \"incorrect top alcohol percentage beer type: '%s'\" % avg_per_type[0]['_id']"
   ]
  },
  {
   "cell_type": "markdown",
   "metadata": {},
   "source": [
    "### 2.d What is the range (max - min) of alcoholpercentage for beers per brewery that brews more than 1 beer?\n",
    "\n",
    "Sort by range (descending).\n",
    "\n",
    "This is a sophisticated aggregation that will involve some serious Mongo DB [kung-fu](https://www.youtube.com/watch?v=SncapPrTusA)!\n",
    "\n",
    "**HINT**: in an early stage, you will need to collect all percentages per brewery. Find a '$group' [accumulator](https://docs.mongodb.org/manual/reference/operator/aggregation/group/) that allows you to do that."
   ]
  },
  {
   "cell_type": "code",
   "execution_count": null,
   "metadata": {
    "collapsed": false
   },
   "outputs": [],
   "source": [
    "range_per_brewery_cursor = db.beers.aggregate([ # complete this\n",
    "        # complete this\n",
    "    ])\n",
    "\n",
    "range_per_brewery = list(range_per_brewery_cursor)\n",
    "\n",
    "range_per_brewery"
   ]
  },
  {
   "cell_type": "code",
   "execution_count": null,
   "metadata": {
    "collapsed": false
   },
   "outputs": [],
   "source": [
    "assert 21.0 == range_per_brewery[0]['range'], \"incorrect first range\""
   ]
  },
  {
   "cell_type": "markdown",
   "metadata": {},
   "source": [
    "## 3. MapReduce in Mongo DB\n",
    "\n",
    "Read the section on M/R in the [blog post](http://vda-lab.github.io/2016/04/mongodb-exercises).\n",
    "\n",
    "With PyMongo, things can get a little awkward because we pass JavaScript functions to Mongo DB, using Python. The JavaScript functions are expressed as Strings and wrapped in a `Code` object, like this:"
   ]
  },
  {
   "cell_type": "code",
   "execution_count": null,
   "metadata": {
    "collapsed": true
   },
   "outputs": [],
   "source": [
    "from bson.code import Code"
   ]
  },
  {
   "cell_type": "code",
   "execution_count": null,
   "metadata": {
    "collapsed": false
   },
   "outputs": [],
   "source": [
    "map_fn = Code(\"\"\"\n",
    "function() {\n",
    "  emit(this.brewery, 1);\n",
    "};\n",
    "\"\"\")\n",
    "\n",
    "reduce_fn = Code(\"\"\"\n",
    "function(brewery, values) {\n",
    "  return Array.sum(values)\n",
    "};\n",
    "\"\"\")\n",
    "\n",
    "db.beers.map_reduce(\n",
    "    map_fn,\n",
    "    reduce_fn,\n",
    "    'numberBeersPerBrewery')"
   ]
  },
  {
   "cell_type": "markdown",
   "metadata": {},
   "source": [
    "the output of the M/R operation is written to a new collection. Let's check the collections on our database again:"
   ]
  },
  {
   "cell_type": "code",
   "execution_count": null,
   "metadata": {
    "collapsed": false
   },
   "outputs": [],
   "source": [
    "db.collection_names()"
   ]
  },
  {
   "cell_type": "code",
   "execution_count": null,
   "metadata": {
    "collapsed": false
   },
   "outputs": [],
   "source": [
    "db.numberBeersPerBrewery.find_one()"
   ]
  },
  {
   "cell_type": "markdown",
   "metadata": {},
   "source": [
    "Okay, that seems to work.\n",
    "\n",
    "Now it's up to you to complete the final exercises, good luck!"
   ]
  },
  {
   "cell_type": "markdown",
   "metadata": {},
   "source": [
    "### 3.a Top 10 productive breweries\n",
    "Using the `numberBeersPerBrewery` collection that you just generated, get the top-10 of the breweries. How can we sort from high to low?\n",
    "\n",
    "Use an aggregation pipeline!"
   ]
  },
  {
   "cell_type": "code",
   "execution_count": null,
   "metadata": {
    "collapsed": false
   },
   "outputs": [],
   "source": [
    "top_10_productive_cursor = db.numberBeersPerBrewery.aggregate([\n",
    "        # complete this\n",
    "    ])\n",
    "\n",
    "top_10_productive = list(top_10_productive_cursor)\n",
    "\n",
    "top_10_productive"
   ]
  },
  {
   "cell_type": "code",
   "execution_count": null,
   "metadata": {
    "collapsed": true
   },
   "outputs": [],
   "source": [
    "top_10_result_size = len(top_10_productive)\n",
    "\n",
    "assert 10 == top_10_result_size, \"incorrect result size: %s\" % top_10_result_size\n",
    "\n",
    "assert 43 == top_10_productive[0]['value']"
   ]
  },
  {
   "cell_type": "markdown",
   "metadata": {},
   "source": [
    "### 3.b String matching\n",
    "\n",
    "Find all entries in the collection `numberBeersPerBrewery`, that contain the word â€˜Inbevâ€™ in the brewery field. You will probably get 3 results. However, there should be 9. Why? How can you solve that?"
   ]
  },
  {
   "cell_type": "code",
   "execution_count": null,
   "metadata": {
    "collapsed": false
   },
   "outputs": [],
   "source": [
    "import re # hint hint hint :)\n",
    "\n",
    "inbev_matcher = # complete this\n",
    "\n",
    "inbev_like_count = db.numberBeersPerBrewery.find(\n",
    "    {\"_id\": inbev_matcher} # complete this\n",
    ").count()"
   ]
  },
  {
   "cell_type": "code",
   "execution_count": null,
   "metadata": {
    "collapsed": false
   },
   "outputs": [],
   "source": [
    "assert 9 == inbev_like_count, \"incorrect nr of 'inbev' like breweries found: %s\" % inbev_like_count"
   ]
  },
  {
   "cell_type": "markdown",
   "metadata": {},
   "source": [
    "### 3.c Map/Reduce aggregation: max\n",
    "Using a single mapreduce on the beers collection, calculate the maximum alcohol percentage per type of beer."
   ]
  },
  {
   "cell_type": "code",
   "execution_count": null,
   "metadata": {
    "collapsed": false
   },
   "outputs": [],
   "source": [
    "def max_pct_MR(): \n",
    "    \n",
    "    map_fn = Code(\"\"\"    \n",
    "        # complete this\n",
    "    \"\"\")\n",
    "    \n",
    "    red_fn = Code(\"\"\"    \n",
    "        # complete this\n",
    "    \"\"\")\n",
    "    \n",
    "    # inline returns the result instead of making a collection\n",
    "    return db.beers.inline_map_reduce(map_fn, red_fn)\n",
    "\n",
    "max_per_type = max_pct_MR()\n",
    "\n",
    "max_per_type"
   ]
  },
  {
   "cell_type": "code",
   "execution_count": null,
   "metadata": {
    "collapsed": false
   },
   "outputs": [],
   "source": [
    "max_pct_IPA = next(b['value'] for b in max_per_type if b.get('_id') == 'IPA')\n",
    "\n",
    "assert 10 == max_pct_IPA, \"incorrect max alcohol percentage for IPA: %s\" % max_pct_IPA"
   ]
  },
  {
   "cell_type": "markdown",
   "metadata": {},
   "source": [
    "### 3.d Map/Reduce aggregation: average\n",
    "Using a single mapReduce on the beers collection, calculate the average alcohol percentage per type of beer. Remember that in order to calculate an average, you will first need a sum and a count. \n",
    "\n",
    "Hint: watch out, reduce will not run if there is only one element for a given key (see this [stackoverflow discussion](http://stackoverflow.com/questions/11021733/mongodb-mapreduce-emit-one-key-one-value-doesnt-call-reduce)."
   ]
  },
  {
   "cell_type": "code",
   "execution_count": null,
   "metadata": {
    "collapsed": false
   },
   "outputs": [],
   "source": [
    "def avg_pct_MR():\n",
    "    \n",
    "    map_fn = Code(\"\"\"    \n",
    "        # complete this\n",
    "    \"\"\")\n",
    "    \n",
    "    red_fn = Code(\"\"\"\n",
    "        # complete this  \n",
    "    \"\"\")\n",
    "    \n",
    "    fin_fn = Code(\"\"\"   \n",
    "        # complete this\n",
    "    \"\"\")\n",
    "    \n",
    "    return db.beers.inline_map_reduce(map_fn, red_fn, finalize = fin_fn) \n",
    "\n",
    "avg_per_type = avg_pct_MR()\n",
    "\n",
    "avg_per_type"
   ]
  },
  {
   "cell_type": "code",
   "execution_count": null,
   "metadata": {
    "collapsed": false
   },
   "outputs": [],
   "source": [
    "avg_pct_lager = next(b['value'] for b in avg_per_type if b.get('_id') == 'lager')\n",
    "\n",
    "assert 5.45 == avg_pct_lager, \"incorrect average alcohol percentage for lager: %s\" % avg_pct_lager"
   ]
  },
  {
   "cell_type": "markdown",
   "metadata": {},
   "source": [
    "If you've made it to here and completed all exercises correctly, pat yourself on the back, open up a cold Duvel and enjoy some well-earned rest!\n",
    "\n",
    "[You've done it again](https://www.youtube.com/watch?v=n3UKJq_lxcM)! \n"
   ]
  },
  {
   "cell_type": "code",
   "execution_count": null,
   "metadata": {
    "collapsed": true
   },
   "outputs": [],
   "source": []
  }
 ],
 "metadata": {
  "kernelspec": {
   "display_name": "Python 3",
   "language": "python",
   "name": "python3"
  },
  "language_info": {
   "codemirror_mode": {
    "name": "ipython",
    "version": 3
   },
   "file_extension": ".py",
   "mimetype": "text/x-python",
   "name": "python",
   "nbconvert_exporter": "python",
   "pygments_lexer": "ipython3",
   "version": "3.5.2"
  }
 },
 "nbformat": 4,
 "nbformat_minor": 0
}
