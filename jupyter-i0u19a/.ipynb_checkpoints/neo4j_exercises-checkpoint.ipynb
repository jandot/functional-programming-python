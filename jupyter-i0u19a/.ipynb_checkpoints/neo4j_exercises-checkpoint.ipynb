{
 "cells": [
  {
   "cell_type": "markdown",
   "metadata": {},
   "source": [
    "### i0u19a - Data Processing - KU Leuven\n",
    "\n",
    "# Python Neo4j exercises\n",
    "\n",
    "###### _Jan Aerts_\n",
    "\n",
    "![license](https://licensebuttons.net/l/by/3.0/88x31.png)\n",
    "\n",
    "Hello and welcome to the tutorial on data processing with **Neo4j**!\n",
    "Before proceeding, make sure to have the neo4j server running as well, e.g with `docker run -d -p 7474:7474 jandot/neo4j-i0u19a`\n",
    "\n",
    "We'll be using Jupyter notebook again (you're looking at it) as a tool to walk you through a few examples. At the VDA-Lab, we like notebooks as a teaching tool because they allow you to experiment with code and data as you work your way through the document.\n",
    "\n",
    "A few guidelines on the notebook itself:\n",
    "* A notebook consists of *cells*, which are snippets of either text (markdown) or code (Python in this case).\n",
    "* Cells can be executed by clicking the `[>]` \"play\" button, or by hitting shift-enter on the keyboard.\n",
    "* You can navigate between cells either by clicking or by using the arrow buttons."
   ]
  },
  {
   "cell_type": "markdown",
   "metadata": {},
   "source": [
    "### Neo4j documentation\n",
    "\n",
    "Check the general Neo4j documentation [here](http://neo4j.com/docs/stable/).\n",
    "\n",
    "py2neo API documentation: [http://py2neo.org/2.0/essentials.html](http://py2neo.org/2.0/essentials.html)"
   ]
  },
  {
   "cell_type": "markdown",
   "metadata": {},
   "source": [
    "# The data\n",
    "The dataset consists of gene-gene and gene-disease interactions. Gene nodes have the type `:Gene`; disease nodes are of type `:Disease`. Gene-gene relationships are of type `:INTERACTS_WITH`; gene-disease relationships of type `:AFFECTS`.\n",
    "\n",
    "Node and relationship properties:\n",
    "* gene nodes: geneId, name\n",
    "* disease nodes: diseaseId, name\n",
    "* gene-gene relationships: nr_proofs, proofs\n",
    "* gene-disease relationships: score, associationType"
   ]
  },
  {
   "cell_type": "markdown",
   "metadata": {},
   "source": [
    "# 1. Querying the data using the browser\n",
    "The neo4j database has a good web interface that you can use to look at the data. It can be reached on port 7474: [http://192.168.99.100:7474](http://192.168.99.100:7474) (as always: change the IP if necessary). It looks like this:\n",
    "![screenshot_browser](images/screenshot_browser.png)\n",
    "\n",
    "Data can be queried using the CYPHER language. See [here](http://neo4j.com/developer/cypher-query-language/) for a tutorial. Some quick example queries:\n",
    "\n",
    "* Get 5 nodes: `MATCH (n) RETURN n LIMIT 5;`\n",
    "* Get number of nodes with 2 incoming links: `MATCH ()-->(m)<--() RETURN COUNT(m);`\n",
    "\n",
    "To get things working a bit faster, let's create some indexes on the name fields. Run the following commands in the browser query field:\n",
    "* `CREATE INDEX ON :Gene(name);`\n",
    "* `CREATE INDEX ON :Disease(name);`"
   ]
  },
  {
   "cell_type": "markdown",
   "metadata": {},
   "source": [
    "### Exercises\n",
    "* Fetch 3 diseases from the database.\n",
    "* What is the number of diseases in the database?\n",
    "* Find the number of paths between genes of length 2.\n",
    "* Which diseases are directly affected by the gene CRISP3?\n",
    "* What is the shortest path between the genes CRISP3 and ADAM22?\n",
    "* What are the 3 gene nodes with the highest degree?\n",
    "* Are there any gene-gene connections that might be due to indirect connections? In other words: which 2 genes are connected in 2 steps that are also connected in 1 step? That might mean that the direct connection is actually indirect.\n",
    "* Are there any cliques (= fully-connected subgraphs) of exactly 4 nodes? Return 1."
   ]
  },
  {
   "cell_type": "markdown",
   "metadata": {},
   "source": [
    "# 2. Using the python API\n",
    "The CYPHER language as used above is very useful for extracting specific patterns from a graph database. However, if we want to investigate bigger structures, it is often necessary to go for a more generic approach. For example, if we want to find out more about the structure in the data.\n",
    "\n",
    "The python API for neo4j we use here is `py2neo`.\n",
    "\n",
    "## 2.1 Connecting to the database\n",
    "\n",
    "To connect to the database from python, we will first need to:\n",
    "* Load the necessary modules\n",
    "* Create a graph_db connection\n",
    "\n",
    "The default user/password for neo4j is `neo4j/neo4j`, but the `jandot/neo4j-i0u19a` docker image is configured so that you don't need a username/password to access the data. This has been done by changing the neo4j configuration file:\n",
    "\n",
    "```\n",
    "sed -i.bak 's/dbms.security.auth_enabled=true/dbms.security.auth_enabled=false/' /var/lib/neo4j/conf/neo4j-server.properties\n",
    "```\n",
    "\n",
    "For a list of commands available for the py2neo API, see [here](http://py2neo.org/2.0/essentials.html).\n",
    "\n",
    "So let's connect."
   ]
  },
  {
   "cell_type": "code",
   "execution_count": null,
   "metadata": {
    "collapsed": true
   },
   "outputs": [],
   "source": [
    "from py2neo import Graph, Node, Relationship\n",
    "graph_db = Graph(\"http://192.168.99.100:7474/db/data/\") # Change IP if necessary"
   ]
  },
  {
   "cell_type": "markdown",
   "metadata": {},
   "source": [
    "## 2.2 Simple queries\n",
    "We can still use CYPHER as a language when working in py2neo:"
   ]
  },
  {
   "cell_type": "code",
   "execution_count": null,
   "metadata": {
    "collapsed": false
   },
   "outputs": [],
   "source": [
    "graph_db.cypher.execute(\"MATCH (n:Gene)-[r]->(m:Gene)-[s]->(o:Disease) RETURN n.name,m.name,o.name LIMIT 5;\")"
   ]
  },
  {
   "cell_type": "code",
   "execution_count": null,
   "metadata": {
    "collapsed": false
   },
   "outputs": [],
   "source": [
    "results = graph_db.cypher.execute(\"MATCH (n:Gene)-[r]->(m:Gene)-[s]->(o:Disease) RETURN n.name,m.name,o.name LIMIT 20;\")\n",
    "for result in results:\n",
    "    print(\"Gene 1: \", result[0], \"; Gene 2: \", result[2])"
   ]
  },
  {
   "cell_type": "code",
   "execution_count": null,
   "metadata": {
    "collapsed": false
   },
   "outputs": [],
   "source": [
    "abcd1 = graph_db.find_one(\"Gene\", \"name\", \"ABCD1\")\n",
    "print(abcd1.properties['name'])"
   ]
  },
  {
   "cell_type": "markdown",
   "metadata": {},
   "source": [
    "What are the 10 disease nodes with the highest degree? Return the link-count and the node name."
   ]
  },
  {
   "cell_type": "code",
   "execution_count": null,
   "metadata": {
    "collapsed": false
   },
   "outputs": [],
   "source": [
    "results = graph_db.cypher.execute(# COMPLETE THIS)\n",
    "for result in results:\n",
    "    print(#COMPLETE THIS)"
   ]
  },
  {
   "cell_type": "markdown",
   "metadata": {},
   "source": [
    "## 2.3 Does this look like a random network?\n",
    "Let's see how degree frequencies are distributed, and compare to a random network afterwards.\n",
    "\n",
    "To calculate degree frequencies:"
   ]
  },
  {
   "cell_type": "code",
   "execution_count": null,
   "metadata": {
    "collapsed": false
   },
   "outputs": [],
   "source": [
    "results = graph_db.cypher.execute(\"MATCH (n:Gene)-[r]->(m:Gene) RETURN n, count(r);\")\n",
    "counts = {}\n",
    "for result in results:\n",
    "    # COMPLETE THIS\n",
    "counts"
   ]
  },
  {
   "cell_type": "markdown",
   "metadata": {},
   "source": [
    "Let's plot these using bokeh:"
   ]
  },
  {
   "cell_type": "code",
   "execution_count": null,
   "metadata": {
    "collapsed": false
   },
   "outputs": [],
   "source": [
    "from bokeh.plotting import figure, show\n",
    "from bokeh.charts import Bar\n",
    "from bokeh.io import output_notebook\n",
    "output_notebook()"
   ]
  },
  {
   "cell_type": "code",
   "execution_count": null,
   "metadata": {
    "collapsed": false
   },
   "outputs": [],
   "source": [
    "a = list(counts.keys())\n",
    "b = list(counts.values())\n",
    "p = figure(title=\"simple line example\", x_axis_label='x', y_axis_label='y')\n",
    "p.line(a, b, legend=\"Temp.\", line_width=2)\n",
    "show(p)"
   ]
  },
  {
   "cell_type": "markdown",
   "metadata": {},
   "source": [
    "Let's generate a new graph with the same fraction of nodes to relationships, connected at random. Ideally, we'd use the same number as in the real dataset, but that will take too long to generate... We'll take 1/10 of the size.\n",
    "\n",
    "Steps:\n",
    "1. find out the number of gene nodes and the number of relationships\n",
    "2. create new nodes and generate random relationships between them\n",
    "3. recreate the same plot as above"
   ]
  },
  {
   "cell_type": "markdown",
   "metadata": {},
   "source": [
    "#### 1. Get the number of gene nodes, and the number of relationships."
   ]
  },
  {
   "cell_type": "code",
   "execution_count": null,
   "metadata": {
    "collapsed": false
   },
   "outputs": [],
   "source": [
    "nr_nodes = # COMPLETE THIS\n",
    "print(nr_nodes)\n",
    "nr_relationships = # COMPLETE THIS\n",
    "print(nr_relationships)"
   ]
  },
  {
   "cell_type": "markdown",
   "metadata": {},
   "source": [
    "#### 2. Create new nodes and random relationships\n",
    "Tips:\n",
    "* Give the nodes the label \"RandomNode\" so that you can easily filter them.\n",
    "* Creating these nodes and relationships might take a while. To know how far in the process you are, open a neo4j browser (i.e. http://192.168.99.100:7474), and execute either `MATCH (n:RandomNode) RETURN COUNT(n);` or `MATCH (n:RandomNode)-[r]->(m) RETURN COUNT(r);`.\n",
    "* Start with a **small** network first, to see if everything works as it should. For example, 1/100th of the real network. You can easily remove any tryouts with `MATCH (n:RandomNode) DETACH DELETE n;`."
   ]
  },
  {
   "cell_type": "code",
   "execution_count": null,
   "metadata": {
    "collapsed": false
   },
   "outputs": [],
   "source": [
    "from random import randint\n",
    "n = graph_db.cypher.execute(\"MATCH (n:RandomNode) RETURN n LIMIT 1;\")\n",
    "if not n: # Check if we already have RandomNodes, otherwise we have to delete those first (see tips above)\n",
    "    nr_random_nodes = # COMPLETE THIS\n",
    "    for i in range(1,nr_random_nodes):\n",
    "        # COMPLETE THIS: create nodes of type RandomNode; see py2neo for documentation on `create`\n",
    "        # Give each node a number because you'll have to be able to refer to it in the next step\n",
    "\n",
    "    for i in range(1,nr_random_relationships-1):\n",
    "        # COMPLETE THIS: create relationship between random nodes of type RandomNode"
   ]
  },
  {
   "cell_type": "markdown",
   "metadata": {},
   "source": [
    "#### 3. Now calculate everything and plot for these random data => are they the same?\n",
    "Calculate the same counts as above, and create the same plot. You do not have to load the bokeh library anymore, because we already did that."
   ]
  },
  {
   "cell_type": "code",
   "execution_count": null,
   "metadata": {
    "collapsed": false
   },
   "outputs": [],
   "source": [
    "random_results = # COMPLETE THIS\n",
    "random_counts = {}\n",
    "for result in random_results:\n",
    "    # COMPLETE THIS\n",
    "random_counts"
   ]
  },
  {
   "cell_type": "code",
   "execution_count": null,
   "metadata": {
    "collapsed": false
   },
   "outputs": [],
   "source": [
    "a = # COMPLETE THIS\n",
    "b = # COMPLETE THIS\n",
    "p = figure(title=\"simple line example\", x_axis_label='x', y_axis_label='y')\n",
    "p.line(a, b, legend=\"Temp.\", line_width=2)\n",
    "show(p)"
   ]
  },
  {
   "cell_type": "markdown",
   "metadata": {
    "collapsed": true
   },
   "source": [
    "## 2.4 Centralities\n",
    "For many purposes, it is important to know how \"central\" a node is in a network. Of course, different definitions exist for centrality...\n",
    "\n",
    "### A. Degree centrality\n",
    "Same as node degree: how many relationships does each node have?\n",
    "\n",
    "What are the 5 nodes with the highest degree centrality?"
   ]
  },
  {
   "cell_type": "code",
   "execution_count": null,
   "metadata": {
    "collapsed": false
   },
   "outputs": [],
   "source": [
    "connected_nodes = # COMPLETE THIS\n",
    "connected_nodes"
   ]
  },
  {
   "cell_type": "markdown",
   "metadata": {},
   "source": [
    "### B. Betweenness centrality\n",
    "How many critical paths go through this node? Calculate all shortest paths between all nodes, and check how many of these go through your node of interest. Unfortunately, this is a very compute intensive operation, so we'll create a small network of 15 nodes and 17 edges that looks like this:\n",
    "![small network](images/small_network.png)"
   ]
  },
  {
   "cell_type": "code",
   "execution_count": null,
   "metadata": {
    "collapsed": false
   },
   "outputs": [],
   "source": [
    "n = graph_db.cypher.execute(\"MATCH (n:NewNode) RETURN n LIMIT 1;\")\n",
    "links = [[0,1],[1,2],[1,3],[2,3],[2,4],[3,4],[4,5],[4,6],[6,7],[6,8],[8,9],[8,10],[8,11],[10,11],[4,12],[12,13],[12,14]]\n",
    "if not n:\n",
    "    newNodes = {}\n",
    "    for i in range(0,15):\n",
    "        newNodes[i] = Node(\"NewNode\", number=i)\n",
    "        graph_db.create(newNodes[i])\n",
    "    for link in links:\n",
    "        graph_db.create(Relationship(newNodes[link[0]], \"CONNECTS_TO\", newNodes[link[1]]))"
   ]
  },
  {
   "cell_type": "markdown",
   "metadata": {},
   "source": [
    "Given this smaller dataset, let's calculate the betweenness centrality for each node.\n",
    "\n",
    "Tip: to calculate the shortest path between 2 nodes, use something like:\n",
    "```\n",
    "MATCH p = shortestPath((a:NewNode {number: 0})-[*..500]-(b:NewNode {number: 14})) RETURN p\n",
    "```"
   ]
  },
  {
   "cell_type": "markdown",
   "metadata": {},
   "source": [
    "If we're going to run `shortestPath` queries, we need to find out what the output looks like exactly. So let's just calculate one, and dig in."
   ]
  },
  {
   "cell_type": "code",
   "execution_count": null,
   "metadata": {
    "collapsed": false
   },
   "outputs": [],
   "source": [
    "query = \"MATCH p = shortestPath((a:NewNode {number: 3})-[*..500]-(b:NewNode {number: 11})) RETURN p\"\n",
    "result = graph_db.cypher.execute(query)\n",
    "print(\"#### Result as a whole:\")\n",
    "print(result)\n",
    "print(\"#### Getting the actual result without ID column:\")\n",
    "print(result[0])\n",
    "print(\"#### Getting the path p:\")\n",
    "print(result[0].p)\n",
    "print(\"#### What methods does this path object have?\")\n",
    "print(dir(result[0].p))\n",
    "print(\"#### Getting the length of the path:\")\n",
    "print(result[0].p.size)\n",
    "print(\"#### Getting a list of the nodes:\")\n",
    "print(result[0].p.nodes)\n",
    "print(\"#### Getting the node IDs:\")\n",
    "print(list(map(lambda x: x.properties['number'], result[0].p.nodes)))"
   ]
  },
  {
   "cell_type": "markdown",
   "metadata": {},
   "source": [
    "Now let's count the actual number of times that each node is in the shortest path between any other two nodes."
   ]
  },
  {
   "cell_type": "code",
   "execution_count": null,
   "metadata": {
    "collapsed": false
   },
   "outputs": [],
   "source": [
    "template_query = \"MATCH p = shortestPath((a:NewNode {number: X})-[*..500]-(b:NewNode {number: Y})) RETURN p\"\n",
    "node_counts = {}\n",
    "\n",
    "## Initialize the counts to 0\n",
    "for i in range(0,15):\n",
    "    node_counts[i] = 0\n",
    "\n",
    "## Fetch all shortest paths and count the number of times each node is mentioned\n",
    "for i in range(0,15):\n",
    "    for j in range(0,15):\n",
    "        if i < j: # We don't want to fetch each shortest path twice (i.e. in both directions)\n",
    "            query = template_query.replace('X',str(i)).replace('Y',str(j))\n",
    "            # COMPLETE THIS: run the query, and count the total number of times a node is mentioned in a path\n",
    "            # by adding to node_counts\n",
    "\n",
    "node_counts"
   ]
  },
  {
   "cell_type": "markdown",
   "metadata": {},
   "source": [
    "### C. Closeness centrality\n",
    "Is a bit less stringent than betweenness centrality: how much is a node in the \"middle\" of the network, not too far from the center? Calculate this by checking the average shortest path between this node and all other nodes."
   ]
  },
  {
   "cell_type": "code",
   "execution_count": null,
   "metadata": {
    "collapsed": false
   },
   "outputs": [],
   "source": [
    "template_query = \"MATCH p = shortestPath((a:NewNode {number: X})-[*..500]-(b:NewNode {number: Y})) RETURN p\"\n",
    "path_lengths = {}\n",
    "for i in range(0,15):\n",
    "    path_lengths[i] = 0\n",
    "\n",
    "for i in range(0,15):\n",
    "    for j in range(0,15):\n",
    "        if i < j:\n",
    "            query = template_query.replace('X',str(i)).replace('Y',str(j))\n",
    "            # COMPLETE THIS: how is this different from the betweenness centrality?\n",
    "\n",
    "path_lengths"
   ]
  },
  {
   "cell_type": "markdown",
   "metadata": {
    "collapsed": true
   },
   "source": [
    "## 2.4 Cliques\n",
    "Above, we identified cliques with 4 nodes. It'd be more useful to search for those containing 7 or more, as suggested in the paper by Pradhan et al [Cliques for the identification of gene signatures for colorectal cancer across population](http://www.ncbi.nlm.nih.gov/pmc/articles/PMC3524317/). Unfortunately, this will give us a `java heapspace` error with the current setup of the server.\n",
    "\n",
    "So can we do this using the python API instead? One possible option might work like this:\n",
    "* Find all nodes that have a degree of 7.\n",
    "* For each of these, fetch the related nodes, and store these in a dictionary:\n",
    "```\n",
    "{key: node_a, linked_nodes: [node_b, node_c, node_d, ...]}\n",
    "{key: node_b: linked_nodes: [node_a, node_c, node_d, ...]}\n",
    "...\n",
    "```\n",
    "* If we then take those arrays of linked nodes, add the key, and sort these, we will get something like this:\n",
    "```\n",
    "[node_a, node_b, node_c, node_d, ...] # based on neighbours of node_a\n",
    "[node_a, node_b, node_c, node_d, ...] # based on neighbours of node_b\n",
    "...\n",
    "```\n",
    "* If a certain combination appears 7 times, we have a clique of 7.\n",
    "\n",
    "Of course, this is for nodes with **exactly** 7 relations. So for us find a clique of 7 like that, that clique would have to be unconnected from the rest of the graph. To correct for that, we actually need to search for those with *7 or more* relations, and instead of just checking for identity between the resulting arrays we have to check for subarrays."
   ]
  },
  {
   "cell_type": "code",
   "execution_count": null,
   "metadata": {
    "collapsed": true
   },
   "outputs": [],
   "source": []
  }
 ],
 "metadata": {
  "kernelspec": {
   "display_name": "Python 2",
   "language": "python",
   "name": "python2"
  },
  "language_info": {
   "codemirror_mode": {
    "name": "ipython",
    "version": 2
   },
   "file_extension": ".py",
   "mimetype": "text/x-python",
   "name": "python",
   "nbconvert_exporter": "python",
   "pygments_lexer": "ipython2",
   "version": "2.7.10"
  }
 },
 "nbformat": 4,
 "nbformat_minor": 0
}
