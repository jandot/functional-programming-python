{
 "cells": [
   {
    "cell_type": "markdown",
    "metadata": {},
    "source": [
     "### i0u19a - Data Processing - KU Leuven\n",
     "\n",
     "# Python Mongo exercises\n",
     "\n",
     "###### _Thomas Moerman, Jan Aerts_\n",
     "\n",
     "![license](https://licensebuttons.net/l/by/3.0/88x31.png)"
    ]
   },
   {
    "cell_type": "markdown",
    "metadata": {},
    "source": [
     "Hello and welcome to the tutorial on data processing with **Mongo DB**!\n",
     "Make sure to have the mongo server running as well, e.g with `docker run -d -p 27017:27017 -p 28017:28017 jandot/mongo-i0u19a`\n",
     "\n",
     "We'll be using Jupyter notebook again (you're looking at it) as a tool to walk you through a few examples. At the VDA-LAB, we like notebooks as a teaching tool because they allow you to experiment with code and data as you work your way through the document.\n",
     "\n",
     "A few guidelines on the notebook itself:\n",
     "* A notebook consists of *cells*, which are snippets of either text (markdown) or code (Python in this case).\n",
     "* Cells can be executed by clicking the `[>]` \"play\" button, or by hitting shift-enter on the keyboard.\n",
     "* You can navigate between cells either by clicking or by using the arrow buttons.\n",
     "\n",
     "### Documentation\n",
     "\n",
     "Check this [PyMongo Tutorial blog bost](http://connor-johnson.com/2014/08/17/getting-started-with-mongodb-and-python/).\n",
     "\n",
     "PyMongo API documentation:\n",
     "* http://api.mongodb.org/python/current/index.html#overview\n",
     "* http://api.mongodb.org/python/current/tutorial.html"
    ]
   },
   {
    "cell_type": "markdown",
    "metadata": {},
    "source": [
     "# Mongo client setup\n",
     "\n",
     "We need a MongoClient to connect to a remote Mongo database. We connect to a mongo server node prepared with databases for this exercise session."
    ]
   },
   {
    "cell_type": "code",
    "execution_count": null,
    "metadata": {
     "collapsed": true
    },
    "outputs": [],
    "source": [
     "from pymongo import MongoClient\n",
     "\n",
     "# connect to the mongo server running on your local machine\n",
     "docker_machine_ip = '192.168.99.100' # you might have a different IP, see docker-image IP\n",
     "client = MongoClient(docker_machine_ip, 27017)"
    ]
   },
   {
    "cell_type": "code",
    "execution_count": null,
    "metadata": {
     "collapsed": false
    },
    "outputs": [],
    "source": [
     "client.database_names()"
    ]
   },
   {
    "cell_type": "markdown",
    "metadata": {},
    "source": [
     "Let's connect to the i0u19a database."
    ]
   },
   {
    "cell_type": "code",
    "execution_count": null,
    "metadata": {
     "collapsed": false
    },
    "outputs": [],
    "source": [
     "db = client.i0u19a"
    ]
   },
  {
   "cell_type": "markdown",
   "metadata": {},
   "source": [
    "Let's check which collections are present in the database."
   ]
  },
  {
   "cell_type": "code",
   "execution_count": 470,
   "metadata": {
    "collapsed": false
   },
   "outputs": [
    {
     "data": {
      "text/plain": [
       "['numberBeersPerBrewery', 'number_beers_per_brewery', 'beers']"
      ]
     },
     "execution_count": 470,
     "metadata": {},
     "output_type": "execute_result"
    }
   ],
   "source": [
    "db.collection_names()"
   ]
  },
  {
   "cell_type": "markdown",
   "metadata": {},
   "source": [
    "It contains our familiar 'beers' collection, let's check what's in it"
   ]
  },
  {
   "cell_type": "code",
   "execution_count": 471,
   "metadata": {
    "collapsed": false
   },
   "outputs": [
    {
     "data": {
      "text/plain": [
       "{'_id': ObjectId('57208d9d73ecfed3a86d9f55'),\n",
       " 'alcoholpercentage': 6.0,\n",
       " 'beer': '3 SchtÃ©ng',\n",
       " 'brewery': \"Brasserie Grain d'Orge\",\n",
       " 'type': ['hoge gisting']}"
      ]
     },
     "execution_count": 471,
     "metadata": {},
     "output_type": "execute_result"
    }
   ],
   "source": [
    "db.beers.find_one()"
   ]
  },
  {
   "cell_type": "markdown",
   "metadata": {},
   "source": [
    "Great! Let's continue with some exercises.\n",
    "\n",
    "# Exercises\n",
    "\n",
    "We will do the exercises defined in: http://vda-lab.github.io/2016/04/mongodb-exercises."
   ]
  },
  {
   "cell_type": "markdown",
   "metadata": {},
   "source": [
    "## 1. Warm-up exercises\n",
    "\n",
    "### 1.a How many beers are there in the database?"
   ]
  },
  {
   "cell_type": "code",
   "execution_count": 472,
   "metadata": {
    "collapsed": false
   },
   "outputs": [
    {
     "data": {
      "text/plain": [
       "1691"
      ]
     },
     "execution_count": 472,
     "metadata": {},
     "output_type": "execute_result"
    }
   ],
   "source": [
    "nr_beers = db.beers.count() # complete this\n",
    "\n",
    "nr_beers"
   ]
  },
  {
   "cell_type": "code",
   "execution_count": 473,
   "metadata": {
    "collapsed": true
   },
   "outputs": [],
   "source": [
    "assert nr_beers == 1691, \"incorrect nr beers: %s\" % nr_beers"
   ]
  },
  {
   "cell_type": "markdown",
   "metadata": {},
   "source": [
    "### 1.b. Return the first 5 beers.\n",
    "\n",
    "Working with a result set is slightly different than in the Mongo shell. When executing operations like `find()`, pymongo returns a `cursor`."
   ]
  },
  {
   "cell_type": "code",
   "execution_count": 474,
   "metadata": {
    "collapsed": false
   },
   "outputs": [
    {
     "data": {
      "text/plain": [
       "<pymongo.cursor.Cursor at 0x7f106573fa20>"
      ]
     },
     "execution_count": 474,
     "metadata": {},
     "output_type": "execute_result"
    }
   ],
   "source": [
    "db.beers.find()"
   ]
  },
  {
   "cell_type": "markdown",
   "metadata": {},
   "source": [
    "A cursor is an interface to a collection that supports Python's \"slice\" operator, to select a range of results we are interested in. Slicing is a common operation in Python, for example:"
   ]
  },
  {
   "cell_type": "code",
   "execution_count": 475,
   "metadata": {
    "collapsed": false
   },
   "outputs": [
    {
     "data": {
      "text/plain": [
       "(1, 2, 3)"
      ]
     },
     "execution_count": 475,
     "metadata": {},
     "output_type": "execute_result"
    }
   ],
   "source": [
    "int_list = (1, 2, 3, 4, 5, 6, 7, 8, 9, 10)\n",
    "\n",
    "int_list[0:3]"
   ]
  },
  {
   "cell_type": "markdown",
   "metadata": {},
   "source": [
    "Now use the slice operator to select the first 5 beers"
   ]
  },
  {
   "cell_type": "code",
   "execution_count": 476,
   "metadata": {
    "collapsed": false
   },
   "outputs": [
    {
     "data": {
      "text/plain": [
       "[{'_id': ObjectId('57208d9d73ecfed3a86d9f55'),\n",
       "  'alcoholpercentage': 6.0,\n",
       "  'beer': '3 SchtÃ©ng',\n",
       "  'brewery': \"Brasserie Grain d'Orge\",\n",
       "  'type': ['hoge gisting']},\n",
       " {'_id': ObjectId('57208d9d73ecfed3a86d9f56'),\n",
       "  'alcoholpercentage': 5.6,\n",
       "  'beer': '400',\n",
       "  'brewery': \"'t Hofbrouwerijke voor Brouwerij Montaigu\",\n",
       "  'type': ['blond']},\n",
       " {'_id': ObjectId('57208d9d73ecfed3a86d9f57'),\n",
       "  'alcoholpercentage': 6.5,\n",
       "  'beer': 'IV Saison',\n",
       "  'brewery': 'Brasserie de Jandrain-Jandrenouille',\n",
       "  'type': ['saison']},\n",
       " {'_id': ObjectId('57208d9d73ecfed3a86d9f58'),\n",
       "  'alcoholpercentage': 7.5,\n",
       "  'beer': 'V Cense',\n",
       "  'brewery': 'Brasserie de Jandrain-Jandrenouille',\n",
       "  'type': ['hoge gisting', 'special belge']},\n",
       " {'_id': ObjectId('57208d9d73ecfed3a86d9f59'),\n",
       "  'alcoholpercentage': 6.0,\n",
       "  'beer': 'VI Wheat',\n",
       "  'brewery': 'Brasserie de Jandrain-Jandrenouille',\n",
       "  'type': ['hoge gisting', 'tarwebier']}]"
      ]
     },
     "execution_count": 476,
     "metadata": {},
     "output_type": "execute_result"
    }
   ],
   "source": [
    "first_5_beers_cursor = db.beers.find()[0:5] # complete this\n",
    "\n",
    "# read the items from the cursor into a list\n",
    "first_5_beers = list(first_5_beers_cursor)\n",
    "\n",
    "first_5_beers"
   ]
  },
  {
   "cell_type": "code",
   "execution_count": 477,
   "metadata": {
    "collapsed": true
   },
   "outputs": [],
   "source": [
    "assert 5 == len(first_5_beers), \"incorrect number of beers: %s\" % len(first_5_beers)"
   ]
  },
  {
   "cell_type": "markdown",
   "metadata": {},
   "source": [
    "### 1.c How many beers in the database are of type 'blond troebel'?\n",
    "\n",
    "Provide the `find(...)` method with a filter criterion."
   ]
  },
  {
   "cell_type": "code",
   "execution_count": 478,
   "metadata": {
    "collapsed": false
   },
   "outputs": [
    {
     "data": {
      "text/plain": [
       "1"
      ]
     },
     "execution_count": 478,
     "metadata": {},
     "output_type": "execute_result"
    }
   ],
   "source": [
    "nr_blond_troebel = db.beers.find({'type': 'blond troebel'}).count() # complete this\n",
    "\n",
    "nr_blond_troebel"
   ]
  },
  {
   "cell_type": "code",
   "execution_count": 479,
   "metadata": {
    "collapsed": true
   },
   "outputs": [],
   "source": [
    "assert 1 == nr_blond_troebel, \"Incorrect result for nr of 'blond troebel' beers: %s\" % nr_blond_troebel "
   ]
  },
  {
   "cell_type": "markdown",
   "metadata": {},
   "source": [
    "### 1.d Of these 'blond troebel' beers, only return the name of the beer.\n",
    "\n",
    "Provide the `find(...)` with a filter criterion and a projection."
   ]
  },
  {
   "cell_type": "code",
   "execution_count": 480,
   "metadata": {
    "collapsed": false
   },
   "outputs": [
    {
     "data": {
      "text/plain": [
       "[{'beer': \"L'Autruche Biere des Gilles\"}]"
      ]
     },
     "execution_count": 480,
     "metadata": {},
     "output_type": "execute_result"
    }
   ],
   "source": [
    "troebel_blond_cursor = db.beers.find({'type': 'blond troebel'}, {'_id': 0, 'beer': 1}) # complete this\n",
    "\n",
    "troebel_blond_names = list(troebel_blond_cursor)\n",
    "\n",
    "troebel_blond_names"
   ]
  },
  {
   "cell_type": "markdown",
   "metadata": {},
   "source": [
    "NOTE: make sure that the item IDs are not included in the result!"
   ]
  },
  {
   "cell_type": "code",
   "execution_count": 481,
   "metadata": {
    "collapsed": false
   },
   "outputs": [],
   "source": [
    "troebel_blond_tuple_lengths = list(len(b) for b in troebel_blond_names)\n",
    "\n",
    "assert (troebel_blond_tuple_lengths[0] == 1 and len(set(troebel_blond_tuple_lengths)) == 1), \"incorrect projection\""
   ]
  },
  {
   "cell_type": "markdown",
   "metadata": {},
   "source": [
    "### 1.e How many beers have a percentage alcohol of more than 8 degrees?\n",
    "\n",
    "Provide the find(...) method with the correct filter predicate."
   ]
  },
  {
   "cell_type": "code",
   "execution_count": 482,
   "metadata": {
    "collapsed": false
   },
   "outputs": [
    {
     "data": {
      "text/plain": [
       "399"
      ]
     },
     "execution_count": 482,
     "metadata": {},
     "output_type": "execute_result"
    }
   ],
   "source": [
    "nr_strong_beers = db.beers.find({'alcoholpercentage': {'$gt': 8}}).count() # complete this\n",
    "\n",
    "nr_strong_beers"
   ]
  },
  {
   "cell_type": "code",
   "execution_count": 483,
   "metadata": {
    "collapsed": false
   },
   "outputs": [],
   "source": [
    "assert 399 == nr_strong_beers, \"incorrect nr of strong beers: %s\" % nr_strong_beers"
   ]
  },
  {
   "cell_type": "markdown",
   "metadata": {},
   "source": [
    "### 1.f How many beers have low alcohol ('alcoholarm')?\n",
    "\n",
    "Provide the find(...) method with the correct filter predicate."
   ]
  },
  {
   "cell_type": "code",
   "execution_count": 484,
   "metadata": {
    "collapsed": false
   },
   "outputs": [
    {
     "data": {
      "text/plain": [
       "6"
      ]
     },
     "execution_count": 484,
     "metadata": {},
     "output_type": "execute_result"
    }
   ],
   "source": [
    "nr_lemonades = db.beers.find({'type': 'alcoholarm'}).count()\n",
    "\n",
    "nr_lemonades"
   ]
  },
  {
   "cell_type": "code",
   "execution_count": 485,
   "metadata": {
    "collapsed": true
   },
   "outputs": [],
   "source": [
    "assert 6 == nr_lemonades, \"incorrect nr of low alcohol beers: %s\" % nr_lemonades"
   ]
  },
  {
   "cell_type": "markdown",
   "metadata": {},
   "source": [
    "## 2. Aggregation pipeline exercises\n",
    "\n",
    "Alrightie, we have learned some basic Mongo chops, let's now move on to one of Mongo DB's swiss army knife operators for data wrangling: the `aggregate` pipeline.\n",
    "\n",
    "Check out the documentation here:\n",
    "https://docs.mongodb.org/manual/reference/operator/aggregation-pipeline/.\n",
    "\n",
    "We pass `aggregate` a list of pipeline commands, the data is sequentially operated upon by each command.\n",
    "\n",
    "For example, let's select those beers that have a percentage of more than 8 degrees, get the average of these per brewery, and finally take a sample:"
   ]
  },
  {
   "cell_type": "code",
   "execution_count": 486,
   "metadata": {
    "collapsed": false
   },
   "outputs": [
    {
     "data": {
      "text/plain": [
       "[{'_id': 'De Proefbrouwerij', 'avg': 9.0},\n",
       " {'_id': 'Brasserie de Cazeau', 'avg': 8.2},\n",
       " {'_id': 'De Proefbrouwerij voor Brouwerij The Musketeers',\n",
       "  'avg': 8.733333333333333},\n",
       " {'_id': 'Brouwerij Caulier', 'avg': 10.0},\n",
       " {'_id': 'Brouwerij Kortrijk-dUtsel', 'avg': 8.5}]"
      ]
     },
     "execution_count": 486,
     "metadata": {},
     "output_type": "execute_result"
    }
   ],
   "source": [
    "# notice the $ signs !\n",
    "\n",
    "avg_strong_per_brewery_cursor = db.beers.aggregate([\n",
    "  {'$match': {'alcoholpercentage': {'$gt': 8}}},\n",
    "  {'$group': {'_id': '$brewery', 'avg': {'$avg': '$alcoholpercentage'}}},\n",
    "  {'$sample': {'size': 5}}\n",
    "])\n",
    "\n",
    "list(avg_strong_per_brewery_cursor)"
   ]
  },
  {
   "cell_type": "markdown",
   "metadata": {},
   "source": [
    "We provided `aggregate` with a pipeline like this:\n",
    "\n",
    "```\n",
    "          +--------+     +--------+     +---------+\n",
    "INPUT --> | $match | --> | $group | --> | $sample | --> RESULT\n",
    "          +--------+     +--------+     +---------+\n",
    "```\n",
    "\n",
    "You can specify pipelines of arbitrary length and complexity, using different commands like (but not limited to):\n",
    "\n",
    "* `$project`: reshape each document\n",
    "* `$match`: filter the stream\n",
    "* `$limit`: return only the first n documents\n",
    "* `$unwind`: deconstruct a list in each document into separate documents\n",
    "* `$group`: group documents by a given identifier\n",
    "* `$sort`: reorder the document stream by a specified sort key\n",
    "* `$sample`: take a random sample\n",
    "* `$out`: write the results to a new collection. If used, this should be the last step of the pipeline.\n",
    "\n",
    "Good, now proceed and wrangle your data `aggregate`-style!"
   ]
  },
  {
   "cell_type": "markdown",
   "metadata": {},
   "source": [
    "### 2.a What is the average alcoholpercentage per brewery?"
   ]
  },
  {
   "cell_type": "code",
   "execution_count": 487,
   "metadata": {
    "collapsed": false
   },
   "outputs": [
    {
     "data": {
      "text/plain": [
       "[{'_id': 'De Proefbrouwerij voor de gemeente Zwalm', 'avg': 8.0},\n",
       " {'_id': 'De Proefbrouwerij voor Zonderik Beer Company', 'avg': 8.25},\n",
       " {'_id': 'Brouwerij Lupus', 'avg': 8.299999999999999},\n",
       " {'_id': 'De Proefbrouwerij voor Oude Brouwerij van Zonnegem vzw', 'avg': 7.1},\n",
       " {'_id': 'Sint-Sixtusabdij van Westvleteren', 'avg': 7.55},\n",
       " {'_id': 'Brouwerij Westmalle', 'avg': 8.25},\n",
       " {'_id': \"Brouwerij De Graal voor t'Drankorgel\", 'avg': 8.3},\n",
       " {'_id': 'De Proefbrouwerij in opdracht van De Kale Ridders', 'avg': 7.125},\n",
       " {'_id': 'De Proefbrouwerij voor Brouwerij The Musketeers',\n",
       "  'avg': 7.6800000000000015},\n",
       " {'_id': 'Brouwerij Anders! voor BOMBrewery', 'avg': 6.4},\n",
       " {'_id': 'Brouwerij en stokerij Wilderen', 'avg': 8.2},\n",
       " {'_id': 'De Proefbrouwerij voor Buitenlust', 'avg': 5.5},\n",
       " {'_id': 'Brouwerij Den ToetÃ«lÃ¨r', 'avg': 7.3999999999999995},\n",
       " {'_id': 'Brouwerij Ter Dolen', 'avg': 6.566666666666666},\n",
       " {'_id': 'Brasserie du Bocq voor Brouwerij Corsendonk', 'avg': 6.0},\n",
       " {'_id': 'Brasserie des Fagnes', 'avg': 6.6000000000000005},\n",
       " {'_id': 'Brouwerij Strubbe voor bierfirma Den Haene', 'avg': 9.2},\n",
       " {'_id': 'Brouwerij Inter-Pol', 'avg': 6.05},\n",
       " {'_id': 'Geuzestekerij 3 fonteinen', 'avg': 8.0},\n",
       " {'_id': 'De Proefbrouwerij voor het ZeuntcomitÃ©', 'avg': 7.0},\n",
       " {'_id': 'De Proefbrouwerij voor Bierfirma Trappieter', 'avg': 6.5},\n",
       " {'_id': 'De Proefbrouwerij voor Stepaja bvba', 'avg': 8.0},\n",
       " {'_id': 'Brouwerij St. Bernardus', 'avg': 8.028571428571428},\n",
       " {'_id': 'Brouwerij Strubbe voor â€œMout- en Brouwhuis De Snoekâ€', 'avg': 5.5},\n",
       " {'_id': 'Brouwerij De Graal voor SLIM', 'avg': 8.0},\n",
       " {'_id': 'Brouwerij Martens voor Aldi', 'avg': 4.9},\n",
       " {'_id': 'Brasserie Saint-Feuillien', 'avg': 6.5},\n",
       " {'_id': 'Brasserie de Cazeau', 'avg': 6.875},\n",
       " {'_id': 'De Proefbrouwerij voor bierfirma Slaapmutske', 'avg': 7.7},\n",
       " {'_id': 'Abdij Notre-Dame de Saint-RÃ©my', 'avg': 9.333333333333334},\n",
       " {'_id': 'Brouwerij Het Gulden Spoor', 'avg': 10.0},\n",
       " {'_id': 'Brouwerij Rodenbach', 'avg': 5.783333333333334},\n",
       " {'_id': \"Brasserie de l'Abbaye du Val-Dieu voor Radermacher Distillerie\",\n",
       "  'avg': 8.5},\n",
       " {'_id': 'Brouwerij Van Steenberge in opdracht van Brouwerij Vanuxeem',\n",
       "  'avg': 9.0},\n",
       " {'_id': \"Brouwerij Maenhout voor bierfirma Proefbrouwerij d'oude maalderij\",\n",
       "  'avg': 8.0},\n",
       " {'_id': 'Brouwerij Sint-Jozef in opdracht van Zirvest Cvba', 'avg': 6.125},\n",
       " {'_id': 'Brouwerij St. Bernardus voor cafÃ© Den Toerist', 'avg': 7.5},\n",
       " {'_id': 'Brouwerij Walrave', 'avg': 5.45},\n",
       " {'_id': 'Brouwerij Lupus in opdracht van Paters en Prinsen', 'avg': 8.0},\n",
       " {'_id': 'Microbrouwerij Achilles in De Proefbrouwerij in opdracht van Paters en Prinsen',\n",
       "  'avg': 8.0},\n",
       " {'_id': 'De Scheldebrouwerij voor De Lelie', 'avg': 7.25},\n",
       " {'_id': 'AB Inbev', 'avg': 5.2},\n",
       " {'_id': 'Brouwerij Anders! voor Brouwerij Henricus', 'avg': 6.0},\n",
       " {'_id': 'Gueuzerie Tilquin', 'avg': 6.2},\n",
       " {'_id': 'Geuzestekerij De Cam', 'avg': 5.833333333333333},\n",
       " {'_id': 'Brouwerij Boelens voor Bier- en Wijnhandel De Neys-Asselman',\n",
       "  'avg': 8.5},\n",
       " {'_id': 'Brouwerij Anders! voor Nonneke', 'avg': 8.0},\n",
       " {'_id': 'â€™t Hofbrouwerijke voor Montaigu', 'avg': 9.35},\n",
       " {'_id': 'Brouwerij Anders! voor GIBRIT', 'avg': 7.0},\n",
       " {'_id': 'voor bierfrima Vacas', 'avg': 8.0},\n",
       " {'_id': 'Brouwerij Danny voor Stichting Marcel De Bisschop', 'avg': 6.4},\n",
       " {'_id': 'Brouwerij Gulden Spoor voor Alain Quackelbeen', 'avg': 7.1},\n",
       " {'_id': \"Brouwerij 't Pakhuis\", 'avg': 8.0},\n",
       " {'_id': 'Brouwerij De Arend', 'avg': 5.0},\n",
       " {'_id': 'Brouwerij De Smedt in opdracht van bierfirma Fisser', 'avg': 8.5},\n",
       " {'_id': 'Brouwerij Strubbe voor BioFresh', 'avg': 8.1},\n",
       " {'_id': 'De Lion Ã  Plume bij Brasserie Sainte-HÃ©lÃ¨ne', 'avg': 5.7},\n",
       " {'_id': \"Brasserie d'Achouffe (Duvel-Moortgat)\", 'avg': 9.0},\n",
       " {'_id': 'Brouwerij Martens (Bocholt)', 'avg': 6.333333333333333},\n",
       " {'_id': 'Brouwerij De Landtsheer', 'avg': 9.6},\n",
       " {'_id': 'Huisbrouwerij Sint Canarus', 'avg': 6.833333333333333},\n",
       " {'_id': 'Brouwerij De Graal voor Traagwater', 'avg': 6.5},\n",
       " {'_id': 'Brouwerij De Graal voor bierfirma Ribaldus', 'avg': 7.5},\n",
       " {'_id': 'Alken-Maes', 'avg': 5.066666666666666},\n",
       " {'_id': 'â€˜t Hofbrouwerijke voor De Verhuisbrouwerij', 'avg': 6.7},\n",
       " {'_id': 'Bierfirma NoordSter bij Brouwerij De Vlier', 'avg': 7.0},\n",
       " {'_id': 'Brouwerij Het Anker (vroeger in Brouwerij Riva en Brouwerij Liefmans)',\n",
       "  'avg': 8.4},\n",
       " {'_id': 'De Proefbrouwerij voor de familie Neyt', 'avg': 10.0},\n",
       " {'_id': 'Brouwerijen Alken-Maes', 'avg': 5.933333333333334},\n",
       " {'_id': 'Brouwerij Loterbol', 'avg': 7.92},\n",
       " {'_id': 'De Proefbrouwerij voor Geuzestekerij 3 Fonteinen', 'avg': 7.0},\n",
       " {'_id': 'Brouwerij Wilderen', 'avg': 4.85},\n",
       " {'_id': 'Brouwerij Strubbe voor stad Lier', 'avg': 6.0},\n",
       " {'_id': 'Brouwerij De Koningshoeven in opdracht van Brouwerij Urthel',\n",
       "  'avg': 9.0},\n",
       " {'_id': \"'t Hofbrouwerijke in opdracht van Brouwerij Het Nest\", 'avg': 7.0},\n",
       " {'_id': 'Brouwerij De Ranke voor NovaBirra', 'avg': 5.5},\n",
       " {'_id': 'Brouwerij Lupus voor (T)Huisbrouwerij Odlo', 'avg': 8.7},\n",
       " {'_id': 'Brasserie Saint-Monon voor ConfrÃ©rie du Busson',\n",
       "  'avg': 7.333333333333333},\n",
       " {'_id': 'Brouwerij Strubbe voor Guldenboot nv', 'avg': 5.4799999999999995},\n",
       " {'_id': 'Brouwerij De Rijck', 'avg': 6.5},\n",
       " {'_id': 'Brasserie Jean Tout Seul', 'avg': 6.9},\n",
       " {'_id': 'Brouwerij Brootcoorens', 'avg': 8.0},\n",
       " {'_id': 'Brasserie Artisanale de Rulles', 'avg': 7.3999999999999995},\n",
       " {'_id': 'Les Artisans Brasseurs', 'avg': 7.0},\n",
       " {'_id': \"Brasserie d'Ebly\", 'avg': 6.45},\n",
       " {'_id': 'Brasserie Oxymore', 'avg': 5.0},\n",
       " {'_id': 'Brasserie Ellezelloise', 'avg': 7.15},\n",
       " {'_id': 'Brouwerij De Graal voor Microbrouwerij Paeleman in opdracht van Kwets vzw',\n",
       "  'avg': 6.8},\n",
       " {'_id': 'De Proefbrouwerij voor Bierfirma Vacas', 'avg': 7.0},\n",
       " {'_id': 'Brouwerij Bavik voor â€œMout- en Brouwhuis De Snoekâ€', 'avg': 7.5},\n",
       " {'_id': 'Brouwerij Bier & Karakter bij Brouwerij Deca', 'avg': 8.0},\n",
       " {'_id': 'Brouwerij Kerkom bij Brouwerij Sint-Jozef', 'avg': 9.0},\n",
       " {'_id': 'De Proefbrouwerij in opdracht van De Kastelse Biervereniging',\n",
       "  'avg': 3.5},\n",
       " {'_id': 'De Proefbrouwerij voor Beerdevelopment Viven', 'avg': 6.525},\n",
       " {'_id': 'Brouwerij De Leyerth', 'avg': 8.0},\n",
       " {'_id': 'De Proefbrouwerij voor bierfirma BVG', 'avg': 6.5},\n",
       " {'_id': 'Brouwerij Den Hopperd', 'avg': 6.875},\n",
       " {'_id': 'Inbev', 'avg': 7.225},\n",
       " {'_id': 'Brasserie Saint Feuillien', 'avg': 9.5},\n",
       " {'_id': 'Brouwerij Van den Bossche', 'avg': 10.0},\n",
       " {'_id': 'Brouwerij De Graal voor bierfirma Johannes', 'avg': 6.5},\n",
       " {'_id': 'Brouwerij Verhaeghe Vichte in opdracht van Brouwerij Vanuxeem',\n",
       "  'avg': 5.866666666666667},\n",
       " {'_id': 'Brasserie St. Jean', 'avg': 0.0},\n",
       " {'_id': 'Brouwerij Slaapmutske', 'avg': 8.0},\n",
       " {'_id': 'Brouwerij Liefmans', 'avg': 6.0857142857142845},\n",
       " {'_id': 'Brouwerij Gulden Spoor voor bierfirma Hugel',\n",
       "  'avg': 9.166666666666666},\n",
       " {'_id': 'voor bierfirma Vacas', 'avg': 6.9},\n",
       " {'_id': 'AB-InBev', 'avg': 5.0},\n",
       " {'_id': 'Brouwerij Huyghe voor de De Scheldebrouwerij', 'avg': 5.0},\n",
       " {'_id': 'Brouwerij De Graal voor De Hopjutters', 'avg': 6.65},\n",
       " {'_id': 'Brouwerij De Graal', 'avg': 7.484615384615385},\n",
       " {'_id': 'Brasserie la Barbiot', 'avg': 8.75},\n",
       " {'_id': 'Brouwerij Het Sas', 'avg': 4.949999999999999},\n",
       " {'_id': \"Brouwerij 't Paenhuys\", 'avg': 7.3999999999999995},\n",
       " {'_id': 'Brasserie Caulier', 'avg': 10.0},\n",
       " {'_id': 'De Proefbrouwerij', 'avg': 7.133333333333334},\n",
       " {'_id': 'Brouwerij Bavik', 'avg': 5.333333333333333},\n",
       " {'_id': 'Brouwerij De Kluis (InBev)', 'avg': 6.2444444444444445},\n",
       " {'_id': 'Brouwerij Van Steenberge voor De Brouwerij van Vlaanderen',\n",
       "  'avg': 7.166666666666667},\n",
       " {'_id': 'Groep John Martin', 'avg': 6.175},\n",
       " {'_id': 'Brouwerij Duvel Moortgat', 'avg': 6.718181818181819},\n",
       " {'_id': 'Brasserie FantÃ´me', 'avg': 7.416666666666667},\n",
       " {'_id': 'Brouwerij DijkWaert', 'avg': 9.1375},\n",
       " {'_id': 'Brasserie de Bellevaux', 'avg': 6.24},\n",
       " {'_id': 'Brouwerij Maenhout', 'avg': 7.333333333333333},\n",
       " {'_id': 'Brouwerij Sint-Jozef voor Brouwerij Kerkom', 'avg': 8.0},\n",
       " {'_id': 'Brouwerij Slagmuylder', 'avg': 6.5},\n",
       " {'_id': 'Brasserie Les 3 Fourquets in opdracht van de ConfrÃ©rie du TchestÃ© de NeufchÃ¢teau',\n",
       "  'avg': 7.5},\n",
       " {'_id': 'Brouwerij Hanssens', 'avg': 4.0},\n",
       " {'_id': 'Brouwerij La Binchoise', 'avg': 8.425},\n",
       " {'_id': 'Huisbrouwerij de 3 vaten', 'avg': 7.625},\n",
       " {'_id': 'Brouwerij Louwaege', 'avg': 3.9200000000000004},\n",
       " {'_id': 'Brasserie Dupont', 'avg': 7.116666666666667},\n",
       " {'_id': 'Brouwerij Boelens', 'avg': 7.7272727272727275},\n",
       " {'_id': 'Brouwerij Slaghmuylder', 'avg': 6.300000000000001},\n",
       " {'_id': 'Brasserie La Binchoise (voor Brasserie de Malonne)',\n",
       "  'avg': 8.333333333333334},\n",
       " {'_id': 'Brasserie de Tubize', 'avg': 6.575},\n",
       " {'_id': 'Scheldebrouwerij voor Hobbybrouwerij Het Nest', 'avg': 6.5},\n",
       " {'_id': 'Alken-Maes (Heineken) (vroeger in Brouwerij De Gouden Boom)',\n",
       "  'avg': 4.8},\n",
       " {'_id': 'Microbrouwerij Achilles', 'avg': 7.1},\n",
       " {'_id': \"Brouwerij 't Gaverhopke\", 'avg': 7.811111111111111},\n",
       " {'_id': 'Brasserie de Bertinchamps', 'avg': 7.1},\n",
       " {'_id': 'Brouwerij Slaghmuylder in opdracht van VVV De Faluintjesstreek',\n",
       "  'avg': 6.2},\n",
       " {'_id': 'Brouwerij De Halve Maan', 'avg': 8.0},\n",
       " {'_id': 'Brouwerij Huyghe voor Brouwerij Oud Beersel', 'avg': 7.0},\n",
       " {'_id': 'Gageleer', 'avg': 4.8},\n",
       " {'_id': \"'t Hofbrouwerijke voor bierfirma Montaignu\", 'avg': 5.6},\n",
       " {'_id': 'Brasserie La Ferme au ChÃªne', 'avg': 6.5},\n",
       " {'_id': 'Brouwerij PiedbÅ“uf', 'avg': 5.2},\n",
       " {'_id': 'Brouwerij Belle-Vue (Inbev)', 'avg': 3.0},\n",
       " {'_id': 'De Struise Brouwers bij Brouwerij Deca', 'avg': 10.204545454545455},\n",
       " {'_id': 'Brasserie La Frasnoise', 'avg': 6.3},\n",
       " {'_id': 'Huisbrouwerij Sint Canarus bij De Proefbrouwerij', 'avg': 7.5},\n",
       " {'_id': 'Brasserie Lefebvre', 'avg': 3.5},\n",
       " {'_id': 'Brouwerij Het Anker', 'avg': 7.470588235294118},\n",
       " {'_id': 'Brouwerij De Graal voor Brouwerij De Kassei', 'avg': 7.6},\n",
       " {'_id': 'Brouwerij Bosteels', 'avg': 8.075},\n",
       " {'_id': 'Brouwerij De Bie', 'avg': 6.94},\n",
       " {'_id': 'Affligem Brouwerij (vroeger Brouwerij De Smedt nu deel van Heineken)',\n",
       "  'avg': 6.8},\n",
       " {'_id': 'De Proefbrouwerij voor Den Ouden Advokaat', 'avg': 9.5},\n",
       " {'_id': 'Brouwerij Anders! voor Brussels Beer Project', 'avg': 6.0},\n",
       " {'_id': 'Brasserie du Bocq', 'avg': 5.477777777777778},\n",
       " {'_id': 'Brouwerij Van Steenberge voor de gemeente Bierbeek en Terclavers',\n",
       "  'avg': 7.3},\n",
       " {'_id': 'Brouwerij Angerik', 'avg': 6.7},\n",
       " {'_id': 'De Proefbrouwerij voor Brouwerij Troch', 'avg': 7.5},\n",
       " {'_id': '3 Fonteinen;Brouwerij Boon;Timmermans;Oud Beersel;Lindemans;De Troch;De Cam;Hanssens',\n",
       "  'avg': 7.0},\n",
       " {'_id': 'Brouwerij Roman', 'avg': 6.007692307692308},\n",
       " {'_id': 'Brasserie de la Senne', 'avg': 7.0},\n",
       " {'_id': 'Brasserie Brootcoorens', 'avg': 7.640000000000001},\n",
       " {'_id': 'Achelse Kluis', 'avg': 7.5},\n",
       " {'_id': 'Brouwerij Bockor', 'avg': 5.05},\n",
       " {'_id': 'De Proefbrouwerij in opdracht van Brouwerij Pirlot', 'avg': 7.5},\n",
       " {'_id': 'Brouwerij De Graal voor Hopduvel Gent', 'avg': 8.0},\n",
       " {'_id': 'Brouwerij Strubbe', 'avg': 5.828571428571428},\n",
       " {'_id': '0', 'avg': 0.0},\n",
       " {'_id': \"Brasserie Grain d'Orge\", 'avg': 7.271428571428571},\n",
       " {'_id': 'De Proefbrouwerij voor Microbrouwerij Achilles',\n",
       "  'avg': 7.3999999999999995},\n",
       " {'_id': \"Brasserie de l'Abbaye des Rocs\", 'avg': 7.909090909090909},\n",
       " {'_id': 'Brouwerij Augrenoise', 'avg': 7.0},\n",
       " {'_id': 'Brouwerij De Koninck (Duvel-Moortgat)', 'avg': 6.55},\n",
       " {'_id': 'Brasserie de Brunehaut', 'avg': 7.133333333333334},\n",
       " {'_id': 'Stadsbrouwerij Aarschot', 'avg': 6.0},\n",
       " {'_id': 'Brouwerij Kortrijk-dâ€™Utsel', 'avg': 8.5},\n",
       " {'_id': 'Brouwerij De Troch', 'avg': 4.065384615384615},\n",
       " {'_id': 'Zennebrouwerij', 'avg': 8.0},\n",
       " {'_id': 'De Struise Brouwers', 'avg': 7.95},\n",
       " {'_id': 'Brouwerij Verhaeghe Vichte', 'avg': 5.800000000000001},\n",
       " {'_id': 'Brouwerij Huyghe voor Oxfam wereldwinkels', 'avg': 7.5},\n",
       " {'_id': 'Brouwerij Van Steenberge voor Hopduvel Gent', 'avg': 8.5},\n",
       " {'_id': 'De Proefbrouwerij voor Gageleer cbva-so', 'avg': 4.8},\n",
       " {'_id': 'Brouwerij Girardin', 'avg': 5.0},\n",
       " {'_id': 'Brasserie Val de Sambre', 'avg': 6.675},\n",
       " {'_id': 'Brouwerij Dilewyns', 'avg': 7.633333333333333},\n",
       " {'_id': 'De Verhuisbrouwerij', 'avg': 8.0},\n",
       " {'_id': 'Affligem Brouwerij (Heineken)', 'avg': 7.580000000000001},\n",
       " {'_id': 'Brouwerij Nieuwhuys', 'avg': 7.375},\n",
       " {'_id': 'Brouwerij Lefebvre', 'avg': 6.576470588235294},\n",
       " {'_id': 'Microbrouwerij Den Triest', 'avg': 7.040000000000001},\n",
       " {'_id': 'Brouwerij St-Bernardus', 'avg': 7.1},\n",
       " {'_id': \"'t Hofbrouwerijke voor Brouwerij Montaigu\", 'avg': 5.6},\n",
       " {'_id': 'Brouwerij Het Alternatief bij Brouwerij De Graal', 'avg': 7.8},\n",
       " {'_id': 'Brasserie des GÃ©ants', 'avg': 7.5},\n",
       " {'_id': 'Brouwerij Maenhout bij Brouwerij Gulden Spoor', 'avg': 8.25},\n",
       " {'_id': 'Brouwerij Verhaeghe', 'avg': 6.779999999999999},\n",
       " {'_id': 'Brouwerij De Ranke', 'avg': 6.970000000000001},\n",
       " {'_id': 'Brouwerij Riva', 'avg': 6.55},\n",
       " {'_id': 'Brouwerij Palm', 'avg': 5.126666666666667},\n",
       " {'_id': 'De Proefbrouwerij voor bierfirma Half Zeven', 'avg': 7.5},\n",
       " {'_id': 'Stadsbrouwerij Gruut', 'avg': 6.82},\n",
       " {'_id': 'Brouwerij Haacht', 'avg': 5.2666666666666675},\n",
       " {'_id': 'Brouwerij Smisje', 'avg': 8.285714285714286},\n",
       " {'_id': 'Brouwerij De Graal voor De Verhuisbrouwerij', 'avg': 7.5},\n",
       " {'_id': 'Brouwerij Het Alternatief bij Brouwerij Alvinne',\n",
       "  'avg': 6.566666666666666},\n",
       " {'_id': 'Brouwerij Hof ten Dormaal', 'avg': 7.779999999999999},\n",
       " {'_id': 'De Scheldebrouwerij', 'avg': 6.82},\n",
       " {'_id': 'Brasserie les 3 Fourquets', 'avg': 8.5},\n",
       " {'_id': 'Brouwerij Deca', 'avg': 7.5},\n",
       " {'_id': 'Brasserie Millevertus', 'avg': 6.2},\n",
       " {'_id': 'Brouwerij Danny', 'avg': 6.4},\n",
       " {'_id': 'Brasserie de Bastogne', 'avg': 6.849999999999999},\n",
       " {'_id': 'Brouwerij Donum Ignis', 'avg': 8.149999999999999},\n",
       " {'_id': 'Brouwerij Belgoobeer bij Brouwerij La Binchoise',\n",
       "  'avg': 7.324999999999999},\n",
       " {'_id': 'Brasserie de Jandrain-Jandrenouille', 'avg': 6.666666666666667},\n",
       " {'_id': 'Brouwerij Caulier', 'avg': 8.0},\n",
       " {'_id': 'Dorpsbrouwerij Humulus', 'avg': 8.25},\n",
       " {'_id': 'De Proefbrouwerij voor The Musketeers', 'avg': 6.7},\n",
       " {'_id': 'De Proefbrouwerij voor bierfirma Lesage', 'avg': 7.5},\n",
       " {'_id': 'Brouwerij Kerkom', 'avg': 6.42},\n",
       " {'_id': 'Brouwerij De Glazen Toren', 'avg': 7.88},\n",
       " {'_id': \"Huisbrouwerij 't Pakhuis\", 'avg': 5.4},\n",
       " {'_id': 'Brouwersverzet bij Brouwerij Gulden Spoor', 'avg': 8.5},\n",
       " {'_id': 'Haacht', 'avg': 6.3},\n",
       " {'_id': 'Brouwerij De Block', 'avg': 7.2},\n",
       " {'_id': 'Brasserie de Bouillon', 'avg': 6.5},\n",
       " {'_id': 'Antwerpse Brouw Compagnie', 'avg': 6.5},\n",
       " {'_id': 'Brouwerij Van Steenberge voor Paeleman', 'avg': 6.466666666666666},\n",
       " {'_id': 'Kasteelbrouwerij De Dool', 'avg': 6.1},\n",
       " {'_id': 'Seizoensbrouwerij Vandewalle', 'avg': 6.5},\n",
       " {'_id': 'Brouwerij Den Herberg', 'avg': 5.4},\n",
       " {'_id': 'Brasserie de Silly', 'avg': 6.26875},\n",
       " {'_id': 'De proefbrouwerij voor Den Ouden Advokaat', 'avg': 9.5},\n",
       " {'_id': 'Brouwerij De Ryck', 'avg': 6.2299999999999995},\n",
       " {'_id': 'Brouwerij Anders! voor Verenigde Brouwers', 'avg': 6.0},\n",
       " {'_id': 'Brouwerij Belle-Vue (InBev)', 'avg': 5.175},\n",
       " {'_id': 'De Proefbrouwerij voor bierfirma VALOCCO', 'avg': 8.0},\n",
       " {'_id': 'Brouwerij Van Steenberge', 'avg': 7.228125},\n",
       " {'_id': 'Geuzestekerij 3 Fonteinen', 'avg': 6.109090909090909},\n",
       " {'_id': 'Authentique Brasserie', 'avg': 7.0},\n",
       " {'_id': 'De Proefbrouwerij voor De Verhuisbrouwerij', 'avg': 7.5},\n",
       " {'_id': 'De Proefbrouwerij voor Brouwerij DruÃ¯de', 'avg': 7.166666666666667},\n",
       " {'_id': 'Brouwerij Van Honsebrouck', 'avg': 5.597222222222221},\n",
       " {'_id': 'Group John Martin', 'avg': 7.128571428571428},\n",
       " {'_id': \"'t Hofbrouwerijke\", 'avg': 7.38},\n",
       " {'_id': 'De Scheldebrouwerij voor Brouwerij Het Nest', 'avg': 9.25},\n",
       " {'_id': 'Brouwerij Dupont', 'avg': 6.625},\n",
       " {'_id': 'Brouwerij Cantillon', 'avg': 5.4375},\n",
       " {'_id': 'Brasserie Ã  Vapeur', 'avg': 6.8},\n",
       " {'_id': 'Brouwerij Gulden Spoor', 'avg': 6.583333333333333},\n",
       " {'_id': 'De Proefbrouwerij voor bierfirma Bas-bieren', 'avg': 7.25},\n",
       " {'_id': 'Brasserie du Bocq voor Corsendonk nv', 'avg': 4.3},\n",
       " {'_id': 'Huisbrouwerij Den Tseut', 'avg': 9.25},\n",
       " {'_id': 'Brouwerij Sint-Jozef', 'avg': 4.95},\n",
       " {'_id': \"Brouwerij Mortal's Beers\", 'avg': 7.2},\n",
       " {'_id': 'Brouwerij du Bocq', 'avg': 7.2},\n",
       " {'_id': 'De Proefbrouwerij voor â€™t Brugs Bierinstituut', 'avg': 7.0},\n",
       " {'_id': 'Brouwerij Timmermans', 'avg': 4.714285714285714},\n",
       " {'_id': 'Brouwerij De Dochter van de Korenaar', 'avg': 7.666666666666667},\n",
       " {'_id': 'Brouwers Verzet in Brouwerij De Ranke', 'avg': 4.9},\n",
       " {'_id': 'Brasserie Du Bocq', 'avg': 5.739999999999998},\n",
       " {'_id': 'Brouwerij Palm (vroeger in Brouwerij De Gouden Boom)', 'avg': 7.6},\n",
       " {'_id': 'Brouwerij Palm voor Group John Martin', 'avg': 8.8},\n",
       " {'_id': \"Abdij Notre-Dame d'Orval\", 'avg': 6.2},\n",
       " {'_id': 'Brouwerij De Regenboog', 'avg': 7.838709677419355},\n",
       " {'_id': 'Brouwerij Deca voor Verstraete', 'avg': 8.0},\n",
       " {'_id': 'Brouwerij De Vlier', 'avg': 7.7375},\n",
       " {'_id': 'De Proefbrouwerij voor Brouwerij Jessenhofke', 'avg': 7.2},\n",
       " {'_id': 'De Proefbrouwerij voor Vliegende Paard Brouwers',\n",
       "  'avg': 7.566666666666666},\n",
       " {'_id': 'Brouwerij Alvinne', 'avg': 8.236666666666666},\n",
       " {'_id': 'Brouwerij Jessenhofke bij De Proefbrouwerij', 'avg': 10.0},\n",
       " {'_id': 'Brouwerij De Graal voor bierfirma Vacas', 'avg': 6.35},\n",
       " {'_id': 'Brasserie La Binchoise', 'avg': 6.0},\n",
       " {'_id': 'Brasserie Caracole', 'avg': 7.5},\n",
       " {'_id': 'Brouwerij De Graal voor Bryggja', 'avg': 8.5},\n",
       " {'_id': 'Brouwerij Van Den Bossche', 'avg': 7.722222222222222},\n",
       " {'_id': 'Brouwerij Dubuisson', 'avg': 10.5},\n",
       " {'_id': 'De Proefbrouwerij voor Captain Cooker', 'avg': 5.1},\n",
       " {'_id': 'Brasserie la Botteresse de Sur-les-bois', 'avg': 7.9875},\n",
       " {'_id': 'De Lion Ã  Plume bij Brasserie de Bastogne', 'avg': 4.8},\n",
       " {'_id': 'Hanssens Artisanaal', 'avg': 6.0},\n",
       " {'_id': 'Brouwerij Huyghe', 'avg': 5.893023255813953},\n",
       " {'_id': 'Affligem Brouwerij', 'avg': 8.142857142857142},\n",
       " {'_id': 'Brouwerij Boelens in opdracht van VVV De Faluintjesstreek',\n",
       "  'avg': 8.0},\n",
       " {'_id': 'Brouwerij Contreras', 'avg': 6.590909090909091},\n",
       " {'_id': 'Brasserie La Botteresse de Sur-les-Bois', 'avg': 8.0},\n",
       " {'_id': 'Brouwerij De Leite', 'avg': 7.242857142857143},\n",
       " {'_id': 'De Proefbrouwerij voor The House of Caulier',\n",
       "  'avg': 5.966666666666666},\n",
       " {'_id': 'De Dolle Brouwers', 'avg': 9.0625},\n",
       " {'_id': 'Brasserie Sainte-HÃ©lÃ¨ne', 'avg': 7.833333333333333},\n",
       " {'_id': 'Brouwerij Strubbe voor Brouwerij CrombÃ©', 'avg': 7.199999999999999},\n",
       " {'_id': 'Abdij Notre-Dame de Scourmont', 'avg': 7.2},\n",
       " {'_id': 'Brouwerij Van Eecke', 'avg': 7.690476190476191},\n",
       " {'_id': \"Brouwerij d'Achouffe (Duvel-Moortgat)\", 'avg': 7.666666666666667},\n",
       " {'_id': 'Brouwerij De Plukker', 'avg': 6.1},\n",
       " {'_id': 'Scottish & Newcastle voor Groep John Martin', 'avg': 8.14},\n",
       " {'_id': 'Brouwerij De Graal voor De Hoevebrouwers', 'avg': 7.175},\n",
       " {'_id': 'Alken-Maes (Heineken)', 'avg': 6.110000000000001},\n",
       " {'_id': 'De Proefbrouwerij voor Brouwerij Cluysenaer', 'avg': 7.0},\n",
       " {'_id': 'Brouwerij Wieze', 'avg': 8.0},\n",
       " {'_id': 'Brouwerij Vissenaken', 'avg': 5.8999999999999995},\n",
       " {'_id': 'Brouwerij Boon', 'avg': 6.363636363636363},\n",
       " {'_id': 'Brouwerij Val-Dieu', 'avg': 8.375},\n",
       " {'_id': 'Brouwerij Strubbe voor Bierfirma Den Haene', 'avg': 6.5},\n",
       " {'_id': 'Brouwerij Cnudde', 'avg': 5.25},\n",
       " {'_id': \"Brasserie d'Ecaussinnes\", 'avg': 6.977777777777778},\n",
       " {'_id': 'Brasserie du Flo', 'avg': 7.6875},\n",
       " {'_id': 'Brouwerij Bios', 'avg': 7.5},\n",
       " {'_id': 'Brouwerij Verhaeghe voor Brouwerij Clarysse (bierfirma)',\n",
       "  'avg': 5.25},\n",
       " {'_id': 'Brouwerij Van Eecke voor Extremis', 'avg': 6.0},\n",
       " {'_id': 'Brouwerij De Graal voor (T)Huisbrouwerij Odlo',\n",
       "  'avg': 7.449999999999999},\n",
       " {'_id': 'Affligem Brouwerij (Brouwerij De Smedt)', 'avg': 6.2},\n",
       " {'_id': 'Brasserie Saint-Monon', 'avg': 7.62},\n",
       " {'_id': 'Brouwerij Lindemans', 'avg': 3.9545454545454546},\n",
       " {'_id': 'Huisbrouwerij Sint Canarus voor De Verhuisbrouwerij', 'avg': 7.5},\n",
       " {'_id': 'Brouwerij Jessenhofke', 'avg': 8.0},\n",
       " {'_id': 'Brouwerij De Ranke voor Bierwinkel Bacelle', 'avg': 8.0},\n",
       " {'_id': 'Staminee De Garre (Brouwerij Van Steenberge)', 'avg': 11.5},\n",
       " {'_id': 'Brouwerij De Cock bij Brouwerij Van Steenberge', 'avg': 8.5},\n",
       " {'_id': 'De Dolle Brouwers voor Kaffee Kavijaks', 'avg': 7.0},\n",
       " {'_id': 'Huisbrouwerij Sint-Canarus', 'avg': 7.0},\n",
       " {'_id': 'Brasserie du Bocg voor Broeder Jacob bvba', 'avg': 8.0},\n",
       " {'_id': 'Huisbrouwerij Sint Canarus voor JCI Deinze en Leiestreek',\n",
       "  'avg': 4.6},\n",
       " {'_id': 'Brasserie de Blaugies', 'avg': 6.76},\n",
       " {'_id': 'Brouwerij PiedbÅ“uf (InBev)', 'avg': 1.9000000000000001},\n",
       " {'_id': 'Brouwerij Sint-Jozef voor brouwerij Kerkom', 'avg': 10.65},\n",
       " {'_id': 'De Proefbrouwerij voor Brouwerij Pirlot', 'avg': 8.0},\n",
       " {'_id': 'Brouwerij Den Tseut', 'avg': 7.9},\n",
       " {'_id': 'Brasserie des CarriÃ¨res', 'avg': 6.5},\n",
       " {'_id': 'AB InBev', 'avg': 7.389999999999999},\n",
       " {'_id': 'Brouwerij Van Steenberge voor Brouwerij Paeleman', 'avg': 6.775},\n",
       " {'_id': 'Scheldebrouwerij', 'avg': 8.059999999999999},\n",
       " {'_id': 'Brasserie des LÃ©gendes', 'avg': 6.5},\n",
       " {'_id': 'Brasserie Cantillon', 'avg': 5.166666666666667},\n",
       " {'_id': 'Brouwerij Het Alternatief bij Brouwerij De Graal of Brouwerij Alvinne',\n",
       "  'avg': 9.0},\n",
       " {'_id': 'Brouwerij De Ranke voor Brasserie de la Senne',\n",
       "  'avg': 5.8500000000000005},\n",
       " {'_id': 'De Proefbrouwerij voor Het Waterhuis aan de bierkant', 'avg': 7.5},\n",
       " {'_id': 'Brouwerij Fort Lapin', 'avg': 8.0},\n",
       " {'_id': 'Brasserie du Bocq voor Brouwerij Sterkens',\n",
       "  'avg': 6.242857142857143},\n",
       " {'_id': 'Brouwerij Oud Beersel', 'avg': 5.833333333333333},\n",
       " {'_id': 'Brouwerij Van Steenberge voor BIVO Drinks', 'avg': 7.5},\n",
       " {'_id': 'De Proefbrouwerij voor Brouwerij Slaapmutske', 'avg': 7.4125},\n",
       " {'_id': 'Brasserie Gigi', 'avg': 2.5},\n",
       " {'_id': 'InBev', 'avg': 5.1000000000000005},\n",
       " {'_id': 'Brouwerij Toye', 'avg': 8.0},\n",
       " {'_id': 'Brouwerij Van Den Bossche voor Scouts Moen 50 jaar (2011)',\n",
       "  'avg': 6.5},\n",
       " {'_id': 'Brouwerij Opus Magnum', 'avg': 6.5},\n",
       " {'_id': 'Brouwerij du Bocq voor Corsendonk nv', 'avg': 7.428571428571429},\n",
       " {'_id': 'Scheldebrouwerij voor Brouwerij Het Nest', 'avg': 6.5},\n",
       " {'_id': 'Alken-Maes (Heineken - Carlsberg)', 'avg': 7.814285714285715},\n",
       " {'_id': 'Brasserie de Silenrieux', 'avg': 6.35},\n",
       " {'_id': 'Brouwerij St-Feuillien', 'avg': 5.7},\n",
       " {'_id': 'Brouwerij Strubbe voor den Haene', 'avg': 5.25},\n",
       " {'_id': 'Brouwerij Martens', 'avg': 4.8}]"
      ]
     },
     "execution_count": 487,
     "metadata": {},
     "output_type": "execute_result"
    }
   ],
   "source": [
    "avg_pct_per_brewery_cursor = db.beers.aggregate([\n",
    "        {'$group': {'_id': '$brewery',  \n",
    "                    'avg': {'$avg': '$alcoholpercentage'}}} # complete this\n",
    "    ])\n",
    "\n",
    "avg_pct_per_brewery = list(avg_pct_per_brewery_cursor)\n",
    "\n",
    "avg_pct_per_brewery"
   ]
  },
  {
   "cell_type": "code",
   "execution_count": 488,
   "metadata": {
    "collapsed": false
   },
   "outputs": [],
   "source": [
    "# Verify by checking AB Inbev's average percentage.\n",
    "\n",
    "AB_Inbev_avg = next(b.get('avg') for b in avg_pct_per_brewery if b.get('_id') == \"AB Inbev\")\n",
    "\n",
    "assert 5.2 == AB_Inbev_avg, \"incorrect average alcohol percentage for AB Inbev: %s\" % AB_Inbev_avg"
   ]
  },
  {
   "cell_type": "markdown",
   "metadata": {},
   "source": [
    "### 2.b Which breweries have an average alcohol percentage higher than 10 degrees?\n",
    "\n",
    "Return these in descending order of alcoholpercentage."
   ]
  },
  {
   "cell_type": "code",
   "execution_count": 489,
   "metadata": {
    "collapsed": false
   },
   "outputs": [
    {
     "data": {
      "text/plain": [
       "[{'_id': 'Staminee De Garre (Brouwerij Van Steenberge)', 'avg': 11.5},\n",
       " {'_id': 'Brouwerij Sint-Jozef voor brouwerij Kerkom', 'avg': 10.65},\n",
       " {'_id': 'Brouwerij Dubuisson', 'avg': 10.5},\n",
       " {'_id': 'De Struise Brouwers bij Brouwerij Deca', 'avg': 10.204545454545455}]"
      ]
     },
     "execution_count": 489,
     "metadata": {},
     "output_type": "execute_result"
    }
   ],
   "source": [
    "avg_gt_10_per_brewery_cursor = db.beers.aggregate([\n",
    "        {'$group': {'_id': '$brewery', \n",
    "                    'avg': {'$avg': '$alcoholpercentage'}}}, # complete this\n",
    "        {'$match': {'avg': {'$gt': 10}}},\n",
    "        {'$sort': {'avg': -1}}\n",
    "    ])\n",
    "\n",
    "avg_gt_10_per_brewery = list(avg_gt_10_per_brewery_cursor)\n",
    "\n",
    "avg_gt_10_per_brewery"
   ]
  },
  {
   "cell_type": "code",
   "execution_count": 490,
   "metadata": {
    "collapsed": false
   },
   "outputs": [],
   "source": [
    "assert 4 == len(avg_gt_10_per_brewery), \"incorrect nr of breweries with average alcohol percentage > 10: %s\" % len(avg_gt_10_per_brewery)\n",
    "\n",
    "assert 'Staminee De Garre (Brouwerij Van Steenberge)' == avg_gt_10_per_brewery[0]['_id'], \"incorrect top brewery\""
   ]
  },
  {
   "cell_type": "markdown",
   "metadata": {},
   "source": [
    "### 2.c What is the average alcoholpercentage per type of beer? \n",
    "\n",
    "Sort by alcoholpercentage (descending).\n",
    "\n",
    "**HINT**: beers can have more than one type, check the list of pipeline commands again to find a command that helps dealing with this."
   ]
  },
  {
   "cell_type": "code",
   "execution_count": 491,
   "metadata": {
    "collapsed": false
   },
   "outputs": [
    {
     "data": {
      "text/plain": [
       "[{'_id': 'Eisbockmethode', 'avg': 26.0},\n",
       " {'_id': 'Russian Imperial Stout', 'avg': 15.4},\n",
       " {'_id': 'Belgian Royal Stout', 'avg': 13.0},\n",
       " {'_id': 'amberkleurig speciaalbier', 'avg': 11.5},\n",
       " {'_id': 'robijnrood speciaalbier', 'avg': 11.0},\n",
       " {'_id': 'quadrupel', 'avg': 10.385714285714286},\n",
       " {'_id': 'blond kerstbier', 'avg': 10.0},\n",
       " {'_id': 'Belgo/american ale', 'avg': 10.0},\n",
       " {'_id': 'donkere tripel', 'avg': 10.0},\n",
       " {'_id': 'single hop', 'avg': 10.0},\n",
       " {'_id': 'donker seizoensbier', 'avg': 10.0},\n",
       " {'_id': 'Belgian strong pale ale', 'avg': 10.0},\n",
       " {'_id': 'donker speciaalbier', 'avg': 9.666666666666666},\n",
       " {'_id': 'oak aged', 'avg': 9.583333333333334},\n",
       " {'_id': 'blonde India Pale Ale', 'avg': 9.5},\n",
       " {'_id': 'abdijbier ale', 'avg': 9.5},\n",
       " {'_id': 'gerstewijn', 'avg': 9.5},\n",
       " {'_id': 'imperial stout', 'avg': 9.5},\n",
       " {'_id': 'tripel India Pale Ale', 'avg': 9.0},\n",
       " {'_id': 'Belgian Strong Ale', 'avg': 9.0},\n",
       " {'_id': 'fruit- en bloemenbier', 'avg': 9.0},\n",
       " {'_id': 'abdijbier bruin', 'avg': 9.0},\n",
       " {'_id': 'Tripel', 'avg': 9.0},\n",
       " {'_id': 'roodbruin abdijbier', 'avg': 9.0},\n",
       " {'_id': 'Waestvlaams roodbruin', 'avg': 9.0},\n",
       " {'_id': 'Double IPA', 'avg': 9.0},\n",
       " {'_id': 'Belgian IPA', 'avg': 8.75},\n",
       " {'_id': 'Scotch', 'avg': 8.7},\n",
       " {'_id': 'Belgian Imperial Stout', 'avg': 8.7},\n",
       " {'_id': 'kerstbier', 'avg': 8.590909090909092},\n",
       " {'_id': 'sterk donker', 'avg': 8.566666666666666},\n",
       " {'_id': 'suikervrij', 'avg': 8.5},\n",
       " {'_id': 'speculaasbier', 'avg': 8.5},\n",
       " {'_id': 'brutbier', 'avg': 8.5},\n",
       " {'_id': 'donkerblond abdijbier', 'avg': 8.5},\n",
       " {'_id': 'donker amber', 'avg': 8.5},\n",
       " {'_id': 'kriekenbier', 'avg': 8.5},\n",
       " {'_id': 'okerblond', 'avg': 8.5},\n",
       " {'_id': 'hoogblond', 'avg': 8.5},\n",
       " {'_id': 'Imperial IPA', 'avg': 8.5},\n",
       " {'_id': 'donker kerstbier', 'avg': 8.5},\n",
       " {'_id': 'tabaksbier', 'avg': 8.5},\n",
       " {'_id': 'bruin kerstbier', 'avg': 8.5},\n",
       " {'_id': 'donker', 'avg': 8.458620689655174},\n",
       " {'_id': 'tripel', 'avg': 8.445098039215686},\n",
       " {'_id': 'rood', 'avg': 8.4},\n",
       " {'_id': 'Erkend Belgisch abdijbier', 'avg': 8.375},\n",
       " {'_id': 'Special Belge', 'avg': 8.3},\n",
       " {'_id': 'troebel blond', 'avg': 8.25},\n",
       " {'_id': 'bruinrood', 'avg': 8.2},\n",
       " {'_id': 'Amber', 'avg': 8.2},\n",
       " {'_id': 'sterk blond', 'avg': 8.1},\n",
       " {'_id': 'amberblond', 'avg': 8.05},\n",
       " {'_id': 'tripel ', 'avg': 8.05},\n",
       " {'_id': 'goudblonde tripel', 'avg': 8.0},\n",
       " {'_id': 'tripel kerstbier', 'avg': 8.0},\n",
       " {'_id': 'ale donker', 'avg': 8.0},\n",
       " {'_id': 'strogeel', 'avg': 8.0},\n",
       " {'_id': 'porter', 'avg': 8.0},\n",
       " {'_id': 'blond (etiketbier)', 'avg': 8.0},\n",
       " {'_id': 'triple', 'avg': 8.0},\n",
       " {'_id': 'Vlaams bruin', 'avg': 8.0},\n",
       " {'_id': 'imperial/double IPA', 'avg': 8.0},\n",
       " {'_id': 'bovengisting', 'avg': 8.0},\n",
       " {'_id': 'Erkend Belgisch Abdijbier', 'avg': 8.0},\n",
       " {'_id': 'paasbier', 'avg': 8.0},\n",
       " {'_id': 'donkerbruin', 'avg': 7.95},\n",
       " {'_id': 'amberrood', 'avg': 7.9},\n",
       " {'_id': 'scotch', 'avg': 7.9},\n",
       " {'_id': 'donkere scotch', 'avg': 7.9},\n",
       " {'_id': 'winterbier', 'avg': 7.8875},\n",
       " {'_id': 'trappist', 'avg': 7.883333333333332},\n",
       " {'_id': 'blonde tripel', 'avg': 7.875},\n",
       " {'_id': 'blond speciaalbier', 'avg': 7.875},\n",
       " {'_id': 'speciaalbier', 'avg': 7.859999999999999},\n",
       " {'_id': 'gemengde gisting', 'avg': 7.833333333333333},\n",
       " {'_id': 'dubbele IPA', 'avg': 7.8},\n",
       " {'_id': 'goud', 'avg': 7.8},\n",
       " {'_id': 'stout', 'avg': 7.799999999999998},\n",
       " {'_id': 'Belgian ale', 'avg': 7.75},\n",
       " {'_id': 'Belgian strong ale', 'avg': 7.7},\n",
       " {'_id': 'honingbier', 'avg': 7.541666666666667},\n",
       " {'_id': 'mengbier', 'avg': 7.5},\n",
       " {'_id': 'biologisch bier', 'avg': 7.5},\n",
       " {'_id': 'goudkleurig', 'avg': 7.5},\n",
       " {'_id': 'tarwetripel', 'avg': 7.5},\n",
       " {'_id': 'kruidenbier', 'avg': 7.5},\n",
       " {'_id': 'special belge', 'avg': 7.5},\n",
       " {'_id': 'goudblond', 'avg': 7.446666666666666},\n",
       " {'_id': 'hoge gisting', 'avg': 7.443099273607752},\n",
       " {'_id': 'tripel (etiketbier)', 'avg': 7.4},\n",
       " {'_id': 'bruin dubbel', 'avg': 7.4},\n",
       " {'_id': 'blond aperitiefbier', 'avg': 7.35},\n",
       " {'_id': 'roodbruin', 'avg': 7.3133333333333335},\n",
       " {'_id': 'bruin', 'avg': 7.302272727272728},\n",
       " {'_id': 'blond-amber', 'avg': 7.3},\n",
       " {'_id': 'aged pale', 'avg': 7.3},\n",
       " {'_id': 'chocoladebier', 'avg': 7.1},\n",
       " {'_id': 'IPA', 'avg': 7.086666666666667},\n",
       " {'_id': 'abdijbier', 'avg': 7.070786516853932},\n",
       " {'_id': 'India Pale Ale', 'avg': 7.06},\n",
       " {'_id': 'amber', 'avg': 7.052884615384615},\n",
       " {'_id': 'robijnrood', 'avg': 7.016666666666666},\n",
       " {'_id': 'mosterdbier', 'avg': 7.0},\n",
       " {'_id': 'smoked Porter', 'avg': 7.0},\n",
       " {'_id': 'tripel-gueuze', 'avg': 7.0},\n",
       " {'_id': 'mengbier met lambiek', 'avg': 7.0},\n",
       " {'_id': 'bosbessenbier', 'avg': 7.0},\n",
       " {'_id': 'blond troebel', 'avg': 7.0},\n",
       " {'_id': 'Porter', 'avg': 7.0},\n",
       " {'_id': 'lichtamber', 'avg': 7.0},\n",
       " {'_id': 'India pale ale', 'avg': 7.0},\n",
       " {'_id': 'goudkleur', 'avg': 7.0},\n",
       " {'_id': 'dubbel', 'avg': 6.949999999999999},\n",
       " {'_id': 'blond', 'avg': 6.944497607655503},\n",
       " {'_id': 'biologisch', 'avg': 6.915384615384615},\n",
       " {'_id': 'dubbel gehopt', 'avg': 6.8},\n",
       " {'_id': 'amberbruin', 'avg': 6.8},\n",
       " {'_id': 'blond tarwebier', 'avg': 6.8},\n",
       " {'_id': 'streekbier', 'avg': 6.785714285714286},\n",
       " {'_id': 'abdijbier hoge gisting', 'avg': 6.7},\n",
       " {'_id': 'donkerblond', 'avg': 6.583333333333333},\n",
       " {'_id': 'bockbier', 'avg': 6.5},\n",
       " {'_id': 'fruibier', 'avg': 6.5},\n",
       " {'_id': 'licht troebel', 'avg': 6.5},\n",
       " {'_id': 'Rauchbier', 'avg': 6.5},\n",
       " {'_id': 'koperkleurig', 'avg': 6.5},\n",
       " {'_id': 'bruin speciaalbier', 'avg': 6.5},\n",
       " {'_id': 'rookbier', 'avg': 6.5},\n",
       " {'_id': 'lichtdonker', 'avg': 6.5},\n",
       " {'_id': 'oude kriek', 'avg': 6.5},\n",
       " {'_id': 'licht rood', 'avg': 6.5},\n",
       " {'_id': 'lentebier', 'avg': 6.5},\n",
       " {'_id': 'Tripel blond', 'avg': 6.5},\n",
       " {'_id': 'Belgische blonde ale', 'avg': 6.5},\n",
       " {'_id': 'ongefilterd blond bier', 'avg': 6.5},\n",
       " {'_id': 'bleek blond', 'avg': 6.5},\n",
       " {'_id': 'hoge gisting (etiketbier)', 'avg': 6.5},\n",
       " {'_id': 'etiketbier', 'avg': 6.404000000000001},\n",
       " {'_id': 'donkeramber', 'avg': 6.3},\n",
       " {'_id': 'donkere ale', 'avg': 6.3},\n",
       " {'_id': 'saison', 'avg': 6.23448275862069},\n",
       " {'_id': 'lambiek/kriek', 'avg': 6.166666666666667},\n",
       " {'_id': 'ale', 'avg': 6.136363636363637},\n",
       " {'_id': 'speciale belge', 'avg': 6.128571428571429},\n",
       " {'_id': 'aardbeienlambiek', 'avg': 6.0},\n",
       " {'_id': 'oude geuze', 'avg': 6.0},\n",
       " {'_id': 'koperkleurig India Pale Ale', 'avg': 6.0},\n",
       " {'_id': 'donker blond', 'avg': 6.0},\n",
       " {'_id': 'boekweit', 'avg': 6.0},\n",
       " {'_id': 'speltbier', 'avg': 6.0},\n",
       " {'_id': 'oud bruin', 'avg': 5.907692307692309},\n",
       " {'_id': 'tarwebier', 'avg': 5.9},\n",
       " {'_id': 'bokbier', 'avg': 5.833333333333333},\n",
       " {'_id': 'Dortmunder', 'avg': 5.8},\n",
       " {'_id': 'zwarte-bessenbier', 'avg': 5.75},\n",
       " {'_id': 'Speciale Belge', 'avg': 5.7},\n",
       " {'_id': 'spÃ©ciale belge', 'avg': 5.7},\n",
       " {'_id': 'lichtblond', 'avg': 5.666666666666667},\n",
       " {'_id': 'geuze', 'avg': 5.619230769230769},\n",
       " {'_id': 'West-Vlaams roodbruin', 'avg': 5.5},\n",
       " {'_id': 'donkerrood', 'avg': 5.5},\n",
       " {'_id': 'kriekenlambiek', 'avg': 5.5},\n",
       " {'_id': 'Vlaams oud bruin', 'avg': 5.466666666666666},\n",
       " {'_id': 'lager', 'avg': 5.45},\n",
       " {'_id': 'spelt', 'avg': 5.45},\n",
       " {'_id': 'spontane gisting', 'avg': 5.333333333333333},\n",
       " {'_id': 'Belgische pale ale', 'avg': 5.25},\n",
       " {'_id': 'Export', 'avg': 5.2},\n",
       " {'_id': 'rosÃ©bier', 'avg': 5.2},\n",
       " {'_id': 'glutenvrij pilsener', 'avg': 5.2},\n",
       " {'_id': 'koper-amber', 'avg': 5.2},\n",
       " {'_id': 'roodbruine ale', 'avg': 5.1},\n",
       " {'_id': 'Belgische ale', 'avg': 5.1},\n",
       " {'_id': 'Kriek', 'avg': 5.1},\n",
       " {'_id': 'lage gisting', 'avg': 5.072222222222223},\n",
       " {'_id': 'pils', 'avg': 5.044827586206896},\n",
       " {'_id': 'Vlaams roodbruin', 'avg': 5.0},\n",
       " {'_id': 'Belgian dark ale', 'avg': 5.0},\n",
       " {'_id': 'zoete stout', 'avg': 5.0},\n",
       " {'_id': 'fruitig witbier', 'avg': 5.0},\n",
       " {'_id': 'SpÃ©ciale Belge', 'avg': 5.0},\n",
       " {'_id': 'blonde lager', 'avg': 5.0},\n",
       " {'_id': '100% lambiek', 'avg': 5.0},\n",
       " {'_id': 'export pils', 'avg': 5.0},\n",
       " {'_id': 'SpÃ©ciale belge', 'avg': 5.0},\n",
       " {'_id': 'pilsener', 'avg': 5.0},\n",
       " {'_id': 'witbier', 'avg': 4.968253968253968},\n",
       " {'_id': 'lambiek', 'avg': 4.956666666666666},\n",
       " {'_id': 'wit', 'avg': 4.9},\n",
       " {'_id': 'blond tafelbier', 'avg': 4.8},\n",
       " {'_id': 'fruitbier', 'avg': 4.756097560975609},\n",
       " {'_id': 'aangezoete geuze', 'avg': 4.75},\n",
       " {'_id': 'licht bruin', 'avg': 4.7},\n",
       " {'_id': 'kriek', 'avg': 4.6923076923076925},\n",
       " {'_id': 'faro', 'avg': 4.242857142857143},\n",
       " {'_id': 'met cajunkruiden', 'avg': 4.0},\n",
       " {'_id': 'fruitbier-pils', 'avg': 4.0},\n",
       " {'_id': 'frambozenbier', 'avg': 4.0},\n",
       " {'_id': 'Brown ale', 'avg': 3.8},\n",
       " {'_id': 'fruitbier op basis van lambiek', 'avg': 3.75},\n",
       " {'_id': 'fruitbier (kriekensap)', 'avg': 3.5},\n",
       " {'_id': 'Fruitbier', 'avg': 3.5},\n",
       " {'_id': 'export', 'avg': 2.3},\n",
       " {'_id': 'tafelbier', 'avg': 1.8184210526315787},\n",
       " {'_id': 'Alcoholarm', 'avg': 1.0},\n",
       " {'_id': 'alcoholarm', 'avg': 0.6749999999999999},\n",
       " {'_id': 'NA pils', 'avg': 0.5},\n",
       " {'_id': 'met pompoen', 'avg': 0.0},\n",
       " {'_id': 'alcoholvrij', 'avg': 0.0},\n",
       " {'_id': 'seizoensgebonden', 'avg': 0.0},\n",
       " {'_id': '0 RosÃ©e', 'avg': 0.0},\n",
       " {'_id': '00', 'avg': 0.0},\n",
       " {'_id': '0', 'avg': 0.0},\n",
       " {'_id': 'Blonde', 'avg': 0.0}]"
      ]
     },
     "execution_count": 491,
     "metadata": {},
     "output_type": "execute_result"
    }
   ],
   "source": [
    "avg_per_type_cursor = db.beers.aggregate([\n",
    "        {'$unwind': '$type'},\n",
    "        {'$group': {'_id': '$type', \n",
    "                    'avg': {'$avg': '$alcoholpercentage'}}},\n",
    "        {'$sort': {'avg': -1}}\n",
    "    ])\n",
    "\n",
    "avg_per_type = list(avg_per_type_cursor)\n",
    "\n",
    "avg_per_type"
   ]
  },
  {
   "cell_type": "code",
   "execution_count": 492,
   "metadata": {
    "collapsed": false
   },
   "outputs": [],
   "source": [
    "assert 'Eisbockmethode' == avg_per_type[0]['_id'], \"incorrect top alcohol percentage beer type: '%s'\" % avg_per_type[0]['_id']"
   ]
  },
  {
   "cell_type": "markdown",
   "metadata": {},
   "source": [
    "### 2.d What is the range (max - min) of alcoholpercentage for beers per brewery that brews more than 1 beer?\n",
    "\n",
    "Sort by range (descending).\n",
    "\n",
    "This is a sophisticated aggregation that will involve some serious Mongo DB [kung-fu](https://www.youtube.com/watch?v=SncapPrTusA)!\n",
    "\n",
    "**HINT**: in an early stage, you will need to collect all percentages per brewery. Find a '$group' [accumulator](https://docs.mongodb.org/manual/reference/operator/aggregation/group/) that allows you to do that."
   ]
  },
  {
   "cell_type": "code",
   "execution_count": 493,
   "metadata": {
    "collapsed": false
   },
   "outputs": [
    {
     "data": {
      "text/plain": [
       "[{'_id': 'De Struise Brouwers bij Brouwerij Deca', 'range': 21.0},\n",
       " {'_id': 'Group John Martin', 'range': 12.0},\n",
       " {'_id': 'Brouwerij Van Steenberge', 'range': 11.5},\n",
       " {'_id': 'Brouwerij Alvinne', 'range': 11.2},\n",
       " {'_id': 'Brouwerij Van Honsebrouck', 'range': 11.0},\n",
       " {'_id': \"Brasserie d'Ecaussinnes\", 'range': 10.0},\n",
       " {'_id': 'De Proefbrouwerij', 'range': 9.5},\n",
       " {'_id': 'Brouwerij De Regenboog', 'range': 9.5},\n",
       " {'_id': 'Brouwerij Strubbe', 'range': 8.899999999999999},\n",
       " {'_id': 'Brasserie Du Bocq', 'range': 8.7},\n",
       " {'_id': 'Brouwerij Haacht', 'range': 8.1},\n",
       " {'_id': 'Brouwerij De Arend', 'range': 8.0},\n",
       " {'_id': 'Brouwerij Roman', 'range': 8.0},\n",
       " {'_id': 'Brouwerij Sint-Jozef', 'range': 8.0},\n",
       " {'_id': 'Brouwerij Bavik', 'range': 7.5},\n",
       " {'_id': 'Brouwerij Het Anker', 'range': 7.5},\n",
       " {'_id': 'Brouwerij Bosteels', 'range': 7.5},\n",
       " {'_id': 'Brouwerij Palm', 'range': 7.25},\n",
       " {'_id': 'De Proefbrouwerij in opdracht van De Kastelse Biervereniging',\n",
       "  'range': 7.0},\n",
       " {'_id': 'Brouwerij Smisje', 'range': 7.0},\n",
       " {'_id': 'Brouwerij Huyghe', 'range': 7.0},\n",
       " {'_id': 'De Dolle Brouwers', 'range': 7.0},\n",
       " {'_id': 'Scottish & Newcastle voor Groep John Martin', 'range': 7.0},\n",
       " {'_id': 'Alken-Maes (Heineken)', 'range': 7.0},\n",
       " {'_id': \"Brouwerij 't Gaverhopke\", 'range': 6.5},\n",
       " {'_id': 'Brouwerij De Landtsheer', 'range': 6.0},\n",
       " {'_id': 'De Struise Brouwers', 'range': 6.0},\n",
       " {'_id': 'Brouwerij Dupont', 'range': 6.0},\n",
       " {'_id': 'Brouwerij Dubuisson', 'range': 6.0},\n",
       " {'_id': 'Brasserie des LÃ©gendes', 'range': 6.0},\n",
       " {'_id': 'Brouwerij De Kluis (InBev)', 'range': 5.800000000000001},\n",
       " {'_id': 'Brouwerij La Binchoise', 'range': 5.8},\n",
       " {'_id': 'Brouwerij Het Sas', 'range': 5.7},\n",
       " {'_id': 'Brouwerij Louwaege', 'range': 5.6},\n",
       " {'_id': 'Brouwerij De Koningshoeven in opdracht van Brouwerij Urthel',\n",
       "  'range': 5.5},\n",
       " {'_id': 'Brouwerij Duvel Moortgat', 'range': 5.5},\n",
       " {'_id': 'Brouwerij Augrenoise', 'range': 5.5},\n",
       " {'_id': \"'t Hofbrouwerijke\", 'range': 5.5},\n",
       " {'_id': 'Brasserie la Botteresse de Sur-les-bois', 'range': 5.1},\n",
       " {'_id': 'Brouwerij St. Bernardus', 'range': 5.0},\n",
       " {'_id': 'Brouwerij Loterbol', 'range': 5.0},\n",
       " {'_id': 'Brouwerij De Halve Maan', 'range': 5.0},\n",
       " {'_id': 'Brouwerij Huyghe voor Brouwerij Oud Beersel', 'range': 5.0},\n",
       " {'_id': 'Brouwerij Bockor', 'range': 5.0},\n",
       " {'_id': 'Brouwerij Dilewyns', 'range': 5.0},\n",
       " {'_id': 'Brouwerij Het Alternatief bij Brouwerij De Graal', 'range': 5.0},\n",
       " {'_id': 'Authentique Brasserie', 'range': 5.0},\n",
       " {'_id': 'Brouwerij Van Eecke', 'range': 5.0},\n",
       " {'_id': 'Brouwerij St-Feuillien', 'range': 5.0},\n",
       " {'_id': 'Brouwerij Lefebvre', 'range': 4.800000000000001},\n",
       " {'_id': 'Brasserie Artisanale de Rulles', 'range': 4.8},\n",
       " {'_id': 'Brasserie Brootcoorens', 'range': 4.8},\n",
       " {'_id': 'Brouwerij Nieuwhuys', 'range': 4.8},\n",
       " {'_id': 'Brouwerijen Alken-Maes', 'range': 4.7},\n",
       " {'_id': 'De Proefbrouwerij voor Brouwerij Slaapmutske', 'range': 4.7},\n",
       " {'_id': 'Brouwerij Sint-Jozef voor brouwerij Kerkom',\n",
       "  'range': 4.699999999999999},\n",
       " {'_id': 'Brouwerij De Bie', 'range': 4.6},\n",
       " {'_id': 'Achelse Kluis', 'range': 4.5},\n",
       " {'_id': 'Brouwerij De Ranke', 'range': 4.5},\n",
       " {'_id': 'Brasserie de Silly', 'range': 4.5},\n",
       " {'_id': 'Brasserie Sainte-HÃ©lÃ¨ne', 'range': 4.5},\n",
       " {'_id': 'Brouwerij Val-Dieu', 'range': 4.5},\n",
       " {'_id': 'Brasserie du Flo', 'range': 4.5},\n",
       " {'_id': 'Scheldebrouwerij', 'range': 4.5},\n",
       " {'_id': 'Brasserie de Silenrieux', 'range': 4.5},\n",
       " {'_id': 'Sint-Sixtusabdij van Westvleteren', 'range': 4.3999999999999995},\n",
       " {'_id': 'Brouwerij Liefmans', 'range': 4.3},\n",
       " {'_id': 'Brasserie de Tubize', 'range': 4.2},\n",
       " {'_id': 'Abdij Notre-Dame de Scourmont', 'range': 4.2},\n",
       " {'_id': 'Brouwerij Belle-Vue (Inbev)', 'range': 4.1},\n",
       " {'_id': \"Brasserie de l'Abbaye du Val-Dieu voor Radermacher Distillerie\",\n",
       "  'range': 4.0},\n",
       " {'_id': 'Alken-Maes', 'range': 4.0},\n",
       " {'_id': \"Brasserie de l'Abbaye des Rocs\", 'range': 4.0},\n",
       " {'_id': 'Brasserie de Brunehaut', 'range': 4.0},\n",
       " {'_id': 'Brasserie Val de Sambre', 'range': 4.0},\n",
       " {'_id': 'Stadsbrouwerij Gruut', 'range': 4.0},\n",
       " {'_id': 'De Scheldebrouwerij', 'range': 4.0},\n",
       " {'_id': 'Brasserie Millevertus', 'range': 4.0},\n",
       " {'_id': 'Brasserie Ã  Vapeur', 'range': 4.0},\n",
       " {'_id': 'De Proefbrouwerij voor Vliegende Paard Brouwers', 'range': 4.0},\n",
       " {'_id': 'Brasserie La Binchoise', 'range': 4.0},\n",
       " {'_id': 'Brasserie Caracole', 'range': 4.0},\n",
       " {'_id': 'Brouwerij Boon', 'range': 4.0},\n",
       " {'_id': 'Brouwerij Verhaeghe', 'range': 3.9000000000000004},\n",
       " {'_id': 'Abdij Notre-Dame de Saint-RÃ©my', 'range': 3.8000000000000007},\n",
       " {'_id': \"Brasserie Grain d'Orge\", 'range': 3.8},\n",
       " {'_id': 'Brouwerij De Ranke voor Brasserie de la Senne', 'range': 3.7},\n",
       " {'_id': 'Brouwerij Het Alternatief bij Brouwerij Alvinne',\n",
       "  'range': 3.6999999999999993},\n",
       " {'_id': 'Brouwerij Ter Dolen', 'range': 3.5999999999999996},\n",
       " {'_id': 'Groep John Martin', 'range': 3.5999999999999996},\n",
       " {'_id': 'Brouwerij De Ryck', 'range': 3.5999999999999996},\n",
       " {'_id': 'De Proefbrouwerij in opdracht van De Kale Ridders', 'range': 3.5},\n",
       " {'_id': 'Brouwerij Rodenbach', 'range': 3.5},\n",
       " {'_id': \"Brouwerij 't Paenhuys\", 'range': 3.5},\n",
       " {'_id': 'Brasserie FantÃ´me', 'range': 3.5},\n",
       " {'_id': 'Brasserie Dupont', 'range': 3.5},\n",
       " {'_id': 'Brouwerij Boelens', 'range': 3.5},\n",
       " {'_id': 'Brouwerij Maenhout bij Brouwerij Gulden Spoor', 'range': 3.5},\n",
       " {'_id': 'Brouwerij De Dochter van de Korenaar', 'range': 3.5},\n",
       " {'_id': 'Brouwerij Contreras', 'range': 3.5},\n",
       " {'_id': 'Brouwerij Lindemans', 'range': 3.5},\n",
       " {'_id': 'Alken-Maes (Heineken - Carlsberg)', 'range': 3.5},\n",
       " {'_id': 'Brasserie du Bocq', 'range': 3.4},\n",
       " {'_id': 'Brouwerij DijkWaert', 'range': 3.3000000000000007},\n",
       " {'_id': 'De Proefbrouwerij voor Brouwerij The Musketeers', 'range': 3.3},\n",
       " {'_id': 'Brouwerij Den ToetÃ«lÃ¨r', 'range': 3.3},\n",
       " {'_id': 'Microbrouwerij Den Triest', 'range': 3.3},\n",
       " {'_id': 'Brouwerij PiedbÅ“uf (InBev)', 'range': 3.3},\n",
       " {'_id': 'Brasserie de Cazeau', 'range': 3.1999999999999993},\n",
       " {'_id': 'Brouwerij Riva', 'range': 3.1999999999999993},\n",
       " {'_id': 'De Proefbrouwerij voor Zonderik Beer Company', 'range': 3.0},\n",
       " {'_id': 'Brouwerij Martens (Bocholt)', 'range': 3.0},\n",
       " {'_id': 'Brasserie Saint-Monon voor ConfrÃ©rie du Busson', 'range': 3.0},\n",
       " {'_id': 'De Proefbrouwerij voor Beerdevelopment Viven', 'range': 3.0},\n",
       " {'_id': 'Brouwerij De Graal', 'range': 3.0},\n",
       " {'_id': 'Brouwerij Van Steenberge voor De Brouwerij van Vlaanderen',\n",
       "  'range': 3.0},\n",
       " {'_id': 'Huisbrouwerij de 3 vaten', 'range': 3.0},\n",
       " {'_id': 'Brouwerij Slaghmuylder', 'range': 3.0},\n",
       " {'_id': 'Brasserie des GÃ©ants', 'range': 3.0},\n",
       " {'_id': 'Brouwerij Deca', 'range': 3.0},\n",
       " {'_id': 'Brouwerij Caulier', 'range': 3.0},\n",
       " {'_id': 'Brasserie de Bouillon', 'range': 3.0},\n",
       " {'_id': 'Brouwerij Gulden Spoor', 'range': 3.0},\n",
       " {'_id': \"Brouwerij d'Achouffe (Duvel-Moortgat)\", 'range': 3.0},\n",
       " {'_id': 'Brouwerij Strubbe voor Brouwerij CrombÃ©',\n",
       "  'range': 2.9000000000000004},\n",
       " {'_id': 'De Proefbrouwerij voor Microbrouwerij Achilles', 'range': 2.8},\n",
       " {'_id': 'Brouwerij De Koninck (Duvel-Moortgat)', 'range': 2.8},\n",
       " {'_id': 'Brouwerij Van Steenberge voor Paeleman', 'range': 2.8},\n",
       " {'_id': 'Brasserie des Fagnes', 'range': 2.7},\n",
       " {'_id': 'Brouwerij Wilderen', 'range': 2.7},\n",
       " {'_id': 't Hofbrouwerijke voor Montaigu', 'range': 2.6999999999999993},\n",
       " {'_id': 'Brasserie Ellezelloise', 'range': 2.5999999999999996},\n",
       " {'_id': 'Brasserie du Bocq voor Brouwerij Sterkens',\n",
       "  'range': 2.5999999999999996},\n",
       " {'_id': 'Brouwerij Westmalle', 'range': 2.5},\n",
       " {'_id': 'De Scheldebrouwerij voor De Lelie', 'range': 2.5},\n",
       " {'_id': 'Brouwerij Den Hopperd', 'range': 2.5},\n",
       " {'_id': 'Brouwerij De Vlier', 'range': 2.5},\n",
       " {'_id': 'Brouwerij Van Den Bossche', 'range': 2.5},\n",
       " {'_id': 'Brouwerij De Leite', 'range': 2.5},\n",
       " {'_id': 'De Proefbrouwerij voor The House of Caulier', 'range': 2.5},\n",
       " {'_id': 'Brouwerij Den Tseut', 'range': 2.5},\n",
       " {'_id': 'AB InBev', 'range': 2.5},\n",
       " {'_id': 'Brasserie de Bellevaux', 'range': 2.2},\n",
       " {'_id': 'Affligem Brouwerij (Heineken)', 'range': 2.2},\n",
       " {'_id': 'Brasserie de Blaugies', 'range': 2.2},\n",
       " {'_id': 'Brouwerij De Graal voor Brouwerij De Kassei',\n",
       "  'range': 2.1999999999999993},\n",
       " {'_id': 'Brouwerij Palm (vroeger in Brouwerij De Gouden Boom)',\n",
       "  'range': 2.1999999999999993},\n",
       " {'_id': 'Brouwerij De Graal voor De Hoevebrouwers',\n",
       "  'range': 2.1999999999999993},\n",
       " {'_id': 'Inbev', 'range': 2.1000000000000005},\n",
       " {'_id': 'Brouwerij De Troch', 'range': 2.0999999999999996},\n",
       " {'_id': \"Brasserie d'Achouffe (Duvel-Moortgat)\", 'range': 2.0},\n",
       " {'_id': 'Brouwerij Maenhout', 'range': 2.0},\n",
       " {'_id': 'Brouwerij Sint-Jozef voor Brouwerij Kerkom', 'range': 2.0},\n",
       " {'_id': 'Brouwerij Slagmuylder', 'range': 2.0},\n",
       " {'_id': 'Brasserie de Bastogne', 'range': 2.0},\n",
       " {'_id': 'Brouwerij De Block', 'range': 2.0},\n",
       " {'_id': 'Geuzestekerij 3 Fonteinen', 'range': 2.0},\n",
       " {'_id': 'De Proefbrouwerij voor Brouwerij DruÃ¯de', 'range': 2.0},\n",
       " {'_id': 'Brouwerij Timmermans', 'range': 2.0},\n",
       " {'_id': 'De Proefbrouwerij voor Brouwerij Jessenhofke', 'range': 2.0},\n",
       " {'_id': 'Affligem Brouwerij', 'range': 2.0},\n",
       " {'_id': 'Brasserie La Botteresse de Sur-les-Bois', 'range': 2.0},\n",
       " {'_id': 'Affligem Brouwerij (Brouwerij De Smedt)', 'range': 2.0},\n",
       " {'_id': 'Brouwerij du Bocq voor Corsendonk nv', 'range': 2.0},\n",
       " {'_id': 'Brouwerij Sint-Jozef in opdracht van Zirvest Cvba',\n",
       "  'range': 1.8999999999999995},\n",
       " {'_id': 'Brasserie Saint-Monon', 'range': 1.8000000000000007},\n",
       " {'_id': 'voor bierfirma Vacas', 'range': 1.7999999999999998},\n",
       " {'_id': 'Microbrouwerij Achilles', 'range': 1.7999999999999998},\n",
       " {'_id': 'Brasserie de Bertinchamps', 'range': 1.7999999999999998},\n",
       " {'_id': 'Brouwerij De Glazen Toren', 'range': 1.799999999999999},\n",
       " {'_id': 'Brouwerij Lupus', 'range': 1.5999999999999996},\n",
       " {'_id': 'Brouwerij Hof ten Dormaal', 'range': 1.5999999999999996},\n",
       " {'_id': 'Brouwerij Belgoobeer bij Brouwerij La Binchoise',\n",
       "  'range': 1.5999999999999996},\n",
       " {'_id': 'Brouwerij Kerkom', 'range': 1.5999999999999996},\n",
       " {'_id': 'Geuzestekerij De Cam', 'range': 1.5},\n",
       " {'_id': 'Huisbrouwerij Sint Canarus', 'range': 1.5},\n",
       " {'_id': 'Brouwerij De Leyerth', 'range': 1.5},\n",
       " {'_id': 'Brouwerij Gulden Spoor voor bierfirma Hugel', 'range': 1.5},\n",
       " {'_id': 'Brasserie la Barbiot', 'range': 1.5},\n",
       " {'_id': 'Brasserie de Jandrain-Jandrenouille', 'range': 1.5},\n",
       " {'_id': 'De Scheldebrouwerij voor Brouwerij Het Nest', 'range': 1.5},\n",
       " {'_id': 'De Proefbrouwerij voor bierfirma Bas-bieren', 'range': 1.5},\n",
       " {'_id': 'Huisbrouwerij Den Tseut', 'range': 1.5},\n",
       " {'_id': 'Huisbrouwerij Sint-Canarus', 'range': 1.5},\n",
       " {'_id': 'Brasserie du Bocg voor Broeder Jacob bvba', 'range': 1.5},\n",
       " {'_id': 'Brouwerij Van Steenberge voor Brouwerij Paeleman', 'range': 1.5},\n",
       " {'_id': 'Brouwerij Oud Beersel', 'range': 1.5},\n",
       " {'_id': 'Brouwerij De Graal voor (T)Huisbrouwerij Odlo',\n",
       "  'range': 1.4999999999999991},\n",
       " {'_id': 'Brouwerij Belle-Vue (InBev)', 'range': 1.4000000000000004},\n",
       " {'_id': 'Brouwerij Verhaeghe voor Brouwerij Clarysse (bierfirma)',\n",
       "  'range': 1.4000000000000004},\n",
       " {'_id': 'Brouwerij De Graal voor De Hopjutters', 'range': 1.2999999999999998},\n",
       " {'_id': 'Brouwerij Vissenaken', 'range': 1.2999999999999998},\n",
       " {'_id': 'Brouwerij St-Bernardus', 'range': 1.2000000000000002},\n",
       " {'_id': 'De Proefbrouwerij voor Captain Cooker', 'range': 1.2000000000000002},\n",
       " {'_id': 'Brouwerij Verhaeghe Vichte in opdracht van Brouwerij Vanuxeem',\n",
       "  'range': 1.1999999999999993},\n",
       " {'_id': \"Brasserie d'Ebly\", 'range': 1.0999999999999996},\n",
       " {'_id': 'Brouwerij Strubbe voor Guldenboot nv', 'range': 1.0},\n",
       " {'_id': 'Brouwerij Van Steenberge voor Hopduvel Gent', 'range': 1.0},\n",
       " {'_id': 'De Proefbrouwerij voor bierfirma Lesage', 'range': 1.0},\n",
       " {'_id': 'Seizoensbrouwerij Vandewalle', 'range': 1.0},\n",
       " {'_id': 'Brouwerij Den Herberg', 'range': 1.0},\n",
       " {'_id': 'Brouwerij Cantillon', 'range': 1.0},\n",
       " {'_id': 'Brouwerij Bios', 'range': 1.0},\n",
       " {'_id': 'Brouwerij Inter-Pol', 'range': 0.9000000000000004},\n",
       " {'_id': 'Brouwerij Walrave', 'range': 0.9000000000000004},\n",
       " {'_id': 'Brouwerij Verhaeghe Vichte', 'range': 0.7999999999999998},\n",
       " {'_id': \"Huisbrouwerij 't Pakhuis\", 'range': 0.7999999999999998},\n",
       " {'_id': 'Brouwerij Strubbe voor BioFresh', 'range': 0.6000000000000005},\n",
       " {'_id': 'De Proefbrouwerij voor bierfirma Slaapmutske',\n",
       "  'range': 0.5999999999999996},\n",
       " {'_id': 't Hofbrouwerijke voor De Verhuisbrouwerij',\n",
       "  'range': 0.5999999999999996},\n",
       " {'_id': 'Brasserie La Binchoise (voor Brasserie de Malonne)', 'range': 0.5},\n",
       " {'_id': 'Dorpsbrouwerij Humulus', 'range': 0.5},\n",
       " {'_id': 'Brouwerij De Graal voor bierfirma Vacas', 'range': 0.5},\n",
       " {'_id': 'Brouwerij Cnudde', 'range': 0.5},\n",
       " {'_id': 'Brasserie Cantillon', 'range': 0.5},\n",
       " {'_id': 'Brouwerij Strubbe voor den Haene', 'range': 0.5},\n",
       " {'_id': 'Gueuzerie Tilquin', 'range': 0.40000000000000036},\n",
       " {'_id': 'Brouwerij Martens', 'range': 0.40000000000000036},\n",
       " {'_id': 'Brouwerij Anders! voor BOMBrewery', 'range': 0.39999999999999947},\n",
       " {'_id': 'Brouwerij Angerik', 'range': 0.2999999999999998},\n",
       " {'_id': 'InBev', 'range': 0.20000000000000018},\n",
       " {'_id': 'Brouwerij Donum Ignis', 'range': 0.09999999999999964},\n",
       " {'_id': 'Bierfirma NoordSter bij Brouwerij De Vlier', 'range': 0.0},\n",
       " {'_id': 'Brasserie Caulier', 'range': 0.0},\n",
       " {'_id': 'Brouwerij Hanssens', 'range': 0.0},\n",
       " {'_id': 'Brasserie La Frasnoise', 'range': 0.0},\n",
       " {'_id': 'Brasserie Lefebvre', 'range': 0.0},\n",
       " {'_id': 'Brouwerij Anders! voor Brussels Beer Project', 'range': 0.0},\n",
       " {'_id': 'De Proefbrouwerij in opdracht van Brouwerij Pirlot', 'range': 0.0},\n",
       " {'_id': '0', 'range': 0.0},\n",
       " {'_id': 'Brouwerij Huyghe voor Oxfam wereldwinkels', 'range': 0.0},\n",
       " {'_id': 'Brouwerij Girardin', 'range': 0.0},\n",
       " {'_id': 'Brasserie les 3 Fourquets', 'range': 0.0},\n",
       " {'_id': 'Brouwerij Danny', 'range': 0.0},\n",
       " {'_id': 'Brouwerij Jessenhofke bij De Proefbrouwerij', 'range': 0.0},\n",
       " {'_id': 'Hanssens Artisanaal', 'range': 0.0},\n",
       " {'_id': 'Brouwerij Wieze', 'range': 0.0},\n",
       " {'_id': 'Brouwerij Jessenhofke', 'range': 0.0},\n",
       " {'_id': 'Brouwerij De Cock bij Brouwerij Van Steenberge', 'range': 0.0}]"
      ]
     },
     "execution_count": 493,
     "metadata": {},
     "output_type": "execute_result"
    }
   ],
   "source": [
    "range_per_brewery_cursor = db.beers.aggregate([ # complete this\n",
    "        {'$group': {'_id': '$brewery', 'percentages': {'$push': '$alcoholpercentage'}}},\n",
    "        {'$project': {'_id': 1, \n",
    "                      'percentages': 1, \n",
    "                      'count': {'$size': '$percentages'},\n",
    "                      'min': {'$min': '$percentages'},\n",
    "                      'max': {'$max': '$percentages'}\n",
    "                     }},\n",
    "        {'$match': {'count': {'$gt': 1}}},\n",
    "        {'$project': {'range': {'$subtract': ['$max', '$min']}}},\n",
    "        {'$sort': {'range': -1}}\n",
    "    ])\n",
    "\n",
    "range_per_brewery = list(range_per_brewery_cursor)\n",
    "\n",
    "range_per_brewery"
   ]
  },
  {
   "cell_type": "code",
   "execution_count": 494,
   "metadata": {
    "collapsed": false
   },
   "outputs": [],
   "source": [
    "assert 21.0 == range_per_brewery[0]['range'], \"incorrect first range\""
   ]
  },
  {
   "cell_type": "markdown",
   "metadata": {},
   "source": [
    "## 3. MapReduce in Mongo DB\n",
    "\n",
    "Read the section on M/R in the [blog post](http://vda-lab.github.io/2016/04/mongodb-exercises).\n",
    "\n",
    "With PyMongo, things can get a little awkward because we pass JavaScript functions to Mongo DB, using Python. The JavaScript functions are expressed as Strings and wrapped in a `Code` object, like this:"
   ]
  },
  {
   "cell_type": "code",
   "execution_count": 495,
   "metadata": {
    "collapsed": true
   },
   "outputs": [],
   "source": [
    "from bson.code import Code"
   ]
  },
  {
   "cell_type": "code",
   "execution_count": 496,
   "metadata": {
    "collapsed": false
   },
   "outputs": [
    {
     "data": {
      "text/plain": [
       "Collection(Database(MongoClient(host=['vdalab-docker-mongo-35bb8a5c-1.1d9f54c9.cont.dockerapp.io:27017'], document_class=dict, tz_aware=False, connect=True), 'tmoerman'), 'numberBeersPerBrewery')"
      ]
     },
     "execution_count": 496,
     "metadata": {},
     "output_type": "execute_result"
    }
   ],
   "source": [
    "map_fn = Code(\"\"\"\n",
    "function() {\n",
    "  emit(this.brewery, 1);\n",
    "};\n",
    "\"\"\")\n",
    "\n",
    "reduce_fn = Code(\"\"\"\n",
    "function(brewery, values) {\n",
    "  return Array.sum(values)\n",
    "};\n",
    "\"\"\")\n",
    "\n",
    "db.beers.map_reduce(\n",
    "    map_fn,\n",
    "    reduce_fn,\n",
    "    'numberBeersPerBrewery')"
   ]
  },
  {
   "cell_type": "markdown",
   "metadata": {},
   "source": [
    "the output of the M/R operation is written to a new collection. Let's check the collections on our database again:"
   ]
  },
  {
   "cell_type": "code",
   "execution_count": 497,
   "metadata": {
    "collapsed": false
   },
   "outputs": [
    {
     "data": {
      "text/plain": [
       "['numberBeersPerBrewery', 'number_beers_per_brewery', 'beers']"
      ]
     },
     "execution_count": 497,
     "metadata": {},
     "output_type": "execute_result"
    }
   ],
   "source": [
    "db.collection_names()"
   ]
  },
  {
   "cell_type": "code",
   "execution_count": 498,
   "metadata": {
    "collapsed": false
   },
   "outputs": [
    {
     "data": {
      "text/plain": [
       "{'_id': \"'t Hofbrouwerijke\", 'value': 15.0}"
      ]
     },
     "execution_count": 498,
     "metadata": {},
     "output_type": "execute_result"
    }
   ],
   "source": [
    "db.numberBeersPerBrewery.find_one()"
   ]
  },
  {
   "cell_type": "markdown",
   "metadata": {},
   "source": [
    "Okay, that seems to work.\n",
    "\n",
    "Now it's up to you to complete the final exercises, good luck!"
   ]
  },
  {
   "cell_type": "markdown",
   "metadata": {},
   "source": [
    "### 3.a Top 10 productive breweries\n",
    "Using the `numberBeersPerBrewery` collection that you just generated, get the top-10 of the breweries. How can we sort from high to low?\n",
    "\n",
    "Use an aggregation pipeline!"
   ]
  },
  {
   "cell_type": "code",
   "execution_count": 499,
   "metadata": {
    "collapsed": false
   },
   "outputs": [
    {
     "data": {
      "text/plain": [
       "[{'_id': 'Brouwerij Huyghe', 'value': 43.0},\n",
       " {'_id': 'Brouwerij Van Honsebrouck', 'value': 36.0},\n",
       " {'_id': 'Brouwerij Van Steenberge', 'value': 32.0},\n",
       " {'_id': 'Brouwerij De Regenboog', 'value': 31.0},\n",
       " {'_id': 'Brouwerij Alvinne', 'value': 30.0},\n",
       " {'_id': 'Brouwerij Haacht', 'value': 27.0},\n",
       " {'_id': 'Brouwerij Bavik', 'value': 24.0},\n",
       " {'_id': 'De Struise Brouwers bij Brouwerij Deca', 'value': 22.0},\n",
       " {'_id': 'Brouwerij Van Eecke', 'value': 21.0},\n",
       " {'_id': 'Brouwerij Strubbe', 'value': 21.0}]"
      ]
     },
     "execution_count": 499,
     "metadata": {},
     "output_type": "execute_result"
    }
   ],
   "source": [
    "top_10_productive_cursor = db.numberBeersPerBrewery.aggregate([ #complete this\n",
    "        {'$sort': {'value': -1}},\n",
    "        {'$limit': 10}\n",
    "    ])\n",
    "\n",
    "top_10_productive = list(top_10_productive_cursor)\n",
    "\n",
    "top_10_productive"
   ]
  },
  {
   "cell_type": "code",
   "execution_count": 500,
   "metadata": {
    "collapsed": true
   },
   "outputs": [],
   "source": [
    "top_10_result_size = len(top_10_productive)\n",
    "\n",
    "assert 10 == top_10_result_size, \"incorrect result size: %s\" % top_10_result_size\n",
    "\n",
    "assert 43 == top_10_productive[0]['value']"
   ]
  },
  {
   "cell_type": "markdown",
   "metadata": {},
   "source": [
    "### 3.b String matching\n",
    "\n",
    "Find all entries in the collection `numberBeersPerBrewery`, that contain the word 'Inbev' in the brewery field. You will probably get 3 results. However, there should be 9. Why? How can you solve that?"
   ]
  },
  {
   "cell_type": "code",
   "execution_count": 501,
   "metadata": {
    "collapsed": false
   },
   "outputs": [],
   "source": [
    "import re\n",
    "inbev_matcher = re.compile(\"inbev\", re.IGNORECASE) # complete this\n",
    "\n",
    "inbev_like_count = db.numberBeersPerBrewery.find(\n",
    "    {\"_id\": inbev_matcher} # complete this\n",
    ").count()"
   ]
  },
  {
   "cell_type": "code",
   "execution_count": 502,
   "metadata": {
    "collapsed": false
   },
   "outputs": [],
   "source": [
    "assert 9 == inbev_like_count, \"incorrect nr of 'inbev' like breweries found: %s\" % inbev_like_count"
   ]
  },
  {
   "cell_type": "markdown",
   "metadata": {},
   "source": [
    "### 3.c Map/Reduce aggregation: max\n",
    "Using a single mapreduce on the beers collection, calculate the maximum alcohol percentage per type of beer."
   ]
  },
  {
   "cell_type": "code",
   "execution_count": 503,
   "metadata": {
    "collapsed": false
   },
   "outputs": [
    {
     "data": {
      "text/plain": [
       "[{'_id': '0', 'value': 0.0},\n",
       " {'_id': '0 RosÃ©e', 'value': 0.0},\n",
       " {'_id': '00', 'value': 0.0},\n",
       " {'_id': '100% lambiek', 'value': 5.0},\n",
       " {'_id': 'Alcoholarm', 'value': 1.0},\n",
       " {'_id': 'Amber', 'value': 8.2},\n",
       " {'_id': 'Belgian IPA', 'value': 11.0},\n",
       " {'_id': 'Belgian Imperial Stout', 'value': 8.7},\n",
       " {'_id': 'Belgian Royal Stout', 'value': 13.0},\n",
       " {'_id': 'Belgian Strong Ale', 'value': 10.0},\n",
       " {'_id': 'Belgian ale', 'value': 9.0},\n",
       " {'_id': 'Belgian dark ale', 'value': 5.0},\n",
       " {'_id': 'Belgian strong ale', 'value': 7.7},\n",
       " {'_id': 'Belgian strong pale ale', 'value': 10.0},\n",
       " {'_id': 'Belgische ale', 'value': 5.1},\n",
       " {'_id': 'Belgische blonde ale', 'value': 7.0},\n",
       " {'_id': 'Belgische pale ale', 'value': 5.5},\n",
       " {'_id': 'Belgo/american ale', 'value': 10.0},\n",
       " {'_id': 'Blonde', 'value': 0.0},\n",
       " {'_id': 'Brown ale', 'value': 3.8},\n",
       " {'_id': 'Dortmunder', 'value': 6.3},\n",
       " {'_id': 'Double IPA', 'value': 9.0},\n",
       " {'_id': 'Eisbockmethode', 'value': 26.0},\n",
       " {'_id': 'Erkend Belgisch Abdijbier', 'value': 9.5},\n",
       " {'_id': 'Erkend Belgisch abdijbier', 'value': 10.5},\n",
       " {'_id': 'Export', 'value': 5.2},\n",
       " {'_id': 'Fruitbier', 'value': 3.5},\n",
       " {'_id': 'IPA', 'value': 10.0},\n",
       " {'_id': 'Imperial IPA', 'value': 9.0},\n",
       " {'_id': 'India Pale Ale', 'value': 9.0},\n",
       " {'_id': 'India pale ale', 'value': 7.0},\n",
       " {'_id': 'Kriek', 'value': 5.1},\n",
       " {'_id': 'NA pils', 'value': 0.5},\n",
       " {'_id': 'Porter', 'value': 7.0},\n",
       " {'_id': 'Rauchbier', 'value': 6.5},\n",
       " {'_id': 'Russian Imperial Stout', 'value': 26.0},\n",
       " {'_id': 'Scotch', 'value': 8.7},\n",
       " {'_id': 'Special Belge', 'value': 8.3},\n",
       " {'_id': 'Speciale Belge', 'value': 5.7},\n",
       " {'_id': 'SpÃ©ciale Belge', 'value': 5.0},\n",
       " {'_id': 'SpÃ©ciale belge', 'value': 5.0},\n",
       " {'_id': 'Tripel', 'value': 9.0},\n",
       " {'_id': 'Tripel blond', 'value': 6.5},\n",
       " {'_id': 'Vlaams bruin', 'value': 8.0},\n",
       " {'_id': 'Vlaams oud bruin', 'value': 5.9},\n",
       " {'_id': 'Vlaams roodbruin', 'value': 5.0},\n",
       " {'_id': 'Waestvlaams roodbruin', 'value': 9.0},\n",
       " {'_id': 'West-Vlaams roodbruin', 'value': 5.5},\n",
       " {'_id': 'aangezoete geuze', 'value': 4.75},\n",
       " {'_id': 'aardbeienlambiek', 'value': 6.0},\n",
       " {'_id': 'abdijbier', 'value': 10.0},\n",
       " {'_id': 'abdijbier ale', 'value': 9.5},\n",
       " {'_id': 'abdijbier bruin', 'value': 9.0},\n",
       " {'_id': 'abdijbier hoge gisting', 'value': 6.7},\n",
       " {'_id': 'aged pale', 'value': 7.3},\n",
       " {'_id': 'alcoholarm', 'value': 2.25},\n",
       " {'_id': 'alcoholvrij', 'value': 0.0},\n",
       " {'_id': 'ale', 'value': 7.2},\n",
       " {'_id': 'ale donker', 'value': 8.0},\n",
       " {'_id': 'amber', 'value': 13.0},\n",
       " {'_id': 'amberblond', 'value': 8.1},\n",
       " {'_id': 'amberbruin', 'value': 6.8},\n",
       " {'_id': 'amberkleurig speciaalbier', 'value': 11.5},\n",
       " {'_id': 'amberrood', 'value': 7.9},\n",
       " {'_id': 'biologisch', 'value': 10.0},\n",
       " {'_id': 'biologisch bier', 'value': 7.5},\n",
       " {'_id': 'bleek blond', 'value': 6.5},\n",
       " {'_id': 'blond', 'value': 12.0},\n",
       " {'_id': 'blond (etiketbier)', 'value': 8.0},\n",
       " {'_id': 'blond aperitiefbier', 'value': 8.0},\n",
       " {'_id': 'blond kerstbier', 'value': 10.0},\n",
       " {'_id': 'blond speciaalbier', 'value': 10.0},\n",
       " {'_id': 'blond tafelbier', 'value': 4.8},\n",
       " {'_id': 'blond tarwebier', 'value': 6.8},\n",
       " {'_id': 'blond troebel', 'value': 7.0},\n",
       " {'_id': 'blond-amber', 'value': 7.3},\n",
       " {'_id': 'blonde India Pale Ale', 'value': 9.5},\n",
       " {'_id': 'blonde lager', 'value': 5.0},\n",
       " {'_id': 'blonde tripel', 'value': 8.5},\n",
       " {'_id': 'bockbier', 'value': 6.5},\n",
       " {'_id': 'boekweit', 'value': 6.0},\n",
       " {'_id': 'bokbier', 'value': 8.0},\n",
       " {'_id': 'bosbessenbier', 'value': 7.0},\n",
       " {'_id': 'bovengisting', 'value': 8.0},\n",
       " {'_id': 'bruin', 'value': 11.0},\n",
       " {'_id': 'bruin dubbel', 'value': 8.0},\n",
       " {'_id': 'bruin kerstbier', 'value': 8.5},\n",
       " {'_id': 'bruin speciaalbier', 'value': 6.5},\n",
       " {'_id': 'bruinrood', 'value': 8.2},\n",
       " {'_id': 'brutbier', 'value': 8.5},\n",
       " {'_id': 'chocoladebier', 'value': 7.1},\n",
       " {'_id': 'donker', 'value': 12.0},\n",
       " {'_id': 'donker amber', 'value': 11.0},\n",
       " {'_id': 'donker blond', 'value': 6.0},\n",
       " {'_id': 'donker kerstbier', 'value': 8.5},\n",
       " {'_id': 'donker seizoensbier', 'value': 10.0},\n",
       " {'_id': 'donker speciaalbier', 'value': 10.5},\n",
       " {'_id': 'donkeramber', 'value': 6.3},\n",
       " {'_id': 'donkerblond', 'value': 7.0},\n",
       " {'_id': 'donkerblond abdijbier', 'value': 8.5},\n",
       " {'_id': 'donkerbruin', 'value': 12.0},\n",
       " {'_id': 'donkere ale', 'value': 6.3},\n",
       " {'_id': 'donkere scotch', 'value': 7.9},\n",
       " {'_id': 'donkere tripel', 'value': 10.0},\n",
       " {'_id': 'donkerrood', 'value': 5.5},\n",
       " {'_id': 'dubbel', 'value': 8.3},\n",
       " {'_id': 'dubbel gehopt', 'value': 6.8},\n",
       " {'_id': 'dubbele IPA', 'value': 7.8},\n",
       " {'_id': 'etiketbier', 'value': 11.0},\n",
       " {'_id': 'export', 'value': 4.6},\n",
       " {'_id': 'export pils', 'value': 5.0},\n",
       " {'_id': 'faro', 'value': 5.0},\n",
       " {'_id': 'frambozenbier', 'value': 7.0},\n",
       " {'_id': 'fruibier', 'value': 8.5},\n",
       " {'_id': 'fruit- en bloemenbier', 'value': 9.0},\n",
       " {'_id': 'fruitbier', 'value': 9.0},\n",
       " {'_id': 'fruitbier (kriekensap)', 'value': 3.5},\n",
       " {'_id': 'fruitbier op basis van lambiek', 'value': 6.0},\n",
       " {'_id': 'fruitbier-pils', 'value': 4.0},\n",
       " {'_id': 'fruitig witbier', 'value': 5.0},\n",
       " {'_id': 'gemengde gisting', 'value': 11.0},\n",
       " {'_id': 'gerstewijn', 'value': 10.0},\n",
       " {'_id': 'geuze', 'value': 8.0},\n",
       " {'_id': 'glutenvrij pilsener', 'value': 5.2},\n",
       " {'_id': 'goud', 'value': 10.0},\n",
       " {'_id': 'goudblond', 'value': 8.5},\n",
       " {'_id': 'goudblonde tripel', 'value': 8.0},\n",
       " {'_id': 'goudkleur', 'value': 7.0},\n",
       " {'_id': 'goudkleurig', 'value': 7.5},\n",
       " {'_id': 'hoge gisting', 'value': 13.0},\n",
       " {'_id': 'hoge gisting (etiketbier)', 'value': 8.0},\n",
       " {'_id': 'honingbier', 'value': 8.5},\n",
       " {'_id': 'hoogblond', 'value': 8.5},\n",
       " {'_id': 'imperial stout', 'value': 10.0},\n",
       " {'_id': 'imperial/double IPA', 'value': 8.5},\n",
       " {'_id': 'kerstbier', 'value': 13.0},\n",
       " {'_id': 'koper-amber', 'value': 5.2},\n",
       " {'_id': 'koperkleurig', 'value': 6.5},\n",
       " {'_id': 'koperkleurig India Pale Ale', 'value': 6.0},\n",
       " {'_id': 'kriek', 'value': 8.0},\n",
       " {'_id': 'kriekenbier', 'value': 8.5},\n",
       " {'_id': 'kriekenlambiek', 'value': 5.5},\n",
       " {'_id': 'kruidenbier', 'value': 8.0},\n",
       " {'_id': 'lage gisting', 'value': 8.3},\n",
       " {'_id': 'lager', 'value': 6.3},\n",
       " {'_id': 'lambiek', 'value': 8.0},\n",
       " {'_id': 'lambiek/kriek', 'value': 6.5},\n",
       " {'_id': 'lentebier', 'value': 6.5},\n",
       " {'_id': 'licht bruin', 'value': 4.7},\n",
       " {'_id': 'licht rood', 'value': 6.5},\n",
       " {'_id': 'licht troebel', 'value': 6.5},\n",
       " {'_id': 'lichtamber', 'value': 7.0},\n",
       " {'_id': 'lichtblond', 'value': 7.0},\n",
       " {'_id': 'lichtdonker', 'value': 6.5},\n",
       " {'_id': 'mengbier', 'value': 8.5},\n",
       " {'_id': 'mengbier met lambiek', 'value': 7.0},\n",
       " {'_id': 'met cajunkruiden', 'value': 4.0},\n",
       " {'_id': 'met pompoen', 'value': 0.0},\n",
       " {'_id': 'mosterdbier', 'value': 7.0},\n",
       " {'_id': 'oak aged', 'value': 15.0},\n",
       " {'_id': 'okerblond', 'value': 8.5},\n",
       " {'_id': 'ongefilterd blond bier', 'value': 6.5},\n",
       " {'_id': 'oud bruin', 'value': 8.0},\n",
       " {'_id': 'oude geuze', 'value': 7.0},\n",
       " {'_id': 'oude kriek', 'value': 6.5},\n",
       " {'_id': 'paasbier', 'value': 8.0},\n",
       " {'_id': 'pils', 'value': 6.5},\n",
       " {'_id': 'pilsener', 'value': 5.0},\n",
       " {'_id': 'porter', 'value': 8.0},\n",
       " {'_id': 'quadrupel', 'value': 15.0},\n",
       " {'_id': 'robijnrood', 'value': 9.2},\n",
       " {'_id': 'robijnrood speciaalbier', 'value': 11.0},\n",
       " {'_id': 'rood', 'value': 8.4},\n",
       " {'_id': 'roodbruin', 'value': 12.0},\n",
       " {'_id': 'roodbruin abdijbier', 'value': 9.0},\n",
       " {'_id': 'roodbruine ale', 'value': 5.1},\n",
       " {'_id': 'rookbier', 'value': 6.5},\n",
       " {'_id': 'rosÃ©bier', 'value': 5.2},\n",
       " {'_id': 'saison', 'value': 8.3},\n",
       " {'_id': 'scotch', 'value': 9.0},\n",
       " {'_id': 'seizoensgebonden', 'value': 0.0},\n",
       " {'_id': 'single hop', 'value': 10.0},\n",
       " {'_id': 'smoked Porter', 'value': 7.0},\n",
       " {'_id': 'speciaalbier', 'value': 11.5},\n",
       " {'_id': 'special belge', 'value': 7.5},\n",
       " {'_id': 'speciale belge', 'value': 7.5},\n",
       " {'_id': 'speculaasbier', 'value': 8.5},\n",
       " {'_id': 'spelt', 'value': 6.0},\n",
       " {'_id': 'speltbier', 'value': 6.0},\n",
       " {'_id': 'spontane gisting', 'value': 6.0},\n",
       " {'_id': 'spÃ©ciale belge', 'value': 6.5},\n",
       " {'_id': 'sterk blond', 'value': 9.4},\n",
       " {'_id': 'sterk donker', 'value': 11.0},\n",
       " {'_id': 'stout', 'value': 11.0},\n",
       " {'_id': 'streekbier', 'value': 8.5},\n",
       " {'_id': 'strogeel', 'value': 8.0},\n",
       " {'_id': 'suikervrij', 'value': 9.0},\n",
       " {'_id': 'tabaksbier', 'value': 8.5},\n",
       " {'_id': 'tafelbier', 'value': 3.8},\n",
       " {'_id': 'tarwebier', 'value': 9.0},\n",
       " {'_id': 'tarwetripel', 'value': 7.5},\n",
       " {'_id': 'trappist', 'value': 11.3},\n",
       " {'_id': 'tripel', 'value': 13.0},\n",
       " {'_id': 'tripel ', 'value': 8.1},\n",
       " {'_id': 'tripel (etiketbier)', 'value': 7.5},\n",
       " {'_id': 'tripel India Pale Ale', 'value': 9.0},\n",
       " {'_id': 'tripel kerstbier', 'value': 8.0},\n",
       " {'_id': 'tripel-gueuze', 'value': 7.0},\n",
       " {'_id': 'triple', 'value': 9.0},\n",
       " {'_id': 'troebel blond', 'value': 10.0},\n",
       " {'_id': 'winterbier', 'value': 10.0},\n",
       " {'_id': 'wit', 'value': 4.9},\n",
       " {'_id': 'witbier', 'value': 7.0},\n",
       " {'_id': 'zoete stout', 'value': 5.0},\n",
       " {'_id': 'zwarte-bessenbier', 'value': 6.5}]"
      ]
     },
     "execution_count": 503,
     "metadata": {},
     "output_type": "execute_result"
    }
   ],
   "source": [
    "def max_pct_MR(): # complete this\n",
    "    \n",
    "    map_fn = Code(\"\"\"    \n",
    "    function() {\n",
    "        var beer = this;\n",
    "        beer.type.forEach(function(t) {\n",
    "            emit(t, beer.alcoholpercentage)\n",
    "        });\n",
    "    };\n",
    "    \"\"\")\n",
    "    \n",
    "    red_fn = Code(\"\"\"    \n",
    "    function(key, values) {\n",
    "        return Math.max.apply(null,values);\n",
    "    };    \n",
    "    \"\"\")\n",
    "    \n",
    "    # inline returns the result instead of making a collection\n",
    "    return db.beers.inline_map_reduce(map_fn, red_fn)\n",
    "\n",
    "max_per_type = max_pct_MR()\n",
    "\n",
    "max_per_type"
   ]
  },
  {
   "cell_type": "code",
   "execution_count": 504,
   "metadata": {
    "collapsed": false
   },
   "outputs": [],
   "source": [
    "max_pct_IPA = next(b['value'] for b in max_per_type if b.get('_id') == 'IPA')\n",
    "\n",
    "assert 10 == max_pct_IPA, \"incorrect max alcohol percentage for IPA: %s\" % max_pct_IPA"
   ]
  },
  {
   "cell_type": "markdown",
   "metadata": {},
   "source": [
    "### 3.d Map/Reduce aggregation: average\n",
    "Using a single mapReduce on the beers collection, calculate the average alcohol percentage per type of beer. Remember that in order to calculate an average, you will first need a sum and a count. \n",
    "\n",
    "Hint: watch out, reduce will not run if there is only one element for a given key (see this [stackoverflow discussion](http://stackoverflow.com/questions/11021733/mongodb-mapreduce-emit-one-key-one-value-doesnt-call-reduce)."
   ]
  },
  {
   "cell_type": "code",
   "execution_count": 505,
   "metadata": {
    "collapsed": false
   },
   "outputs": [
    {
     "data": {
      "text/plain": [
       "[{'_id': '0', 'value': 0.0},\n",
       " {'_id': '0 RosÃ©e', 'value': 0.0},\n",
       " {'_id': '00', 'value': 0.0},\n",
       " {'_id': '100% lambiek', 'value': 5.0},\n",
       " {'_id': 'Alcoholarm', 'value': 1.0},\n",
       " {'_id': 'Amber', 'value': 8.2},\n",
       " {'_id': 'Belgian IPA', 'value': 8.75},\n",
       " {'_id': 'Belgian Imperial Stout', 'value': 8.7},\n",
       " {'_id': 'Belgian Royal Stout', 'value': 13.0},\n",
       " {'_id': 'Belgian Strong Ale', 'value': 9.0},\n",
       " {'_id': 'Belgian ale', 'value': 7.75},\n",
       " {'_id': 'Belgian dark ale', 'value': 5.0},\n",
       " {'_id': 'Belgian strong ale', 'value': 7.7},\n",
       " {'_id': 'Belgian strong pale ale', 'value': 10.0},\n",
       " {'_id': 'Belgische ale', 'value': 5.1},\n",
       " {'_id': 'Belgische blonde ale', 'value': 6.5},\n",
       " {'_id': 'Belgische pale ale', 'value': 5.25},\n",
       " {'_id': 'Belgo/american ale', 'value': 10.0},\n",
       " {'_id': 'Blonde', 'value': 0.0},\n",
       " {'_id': 'Brown ale', 'value': 3.8},\n",
       " {'_id': 'Dortmunder', 'value': 5.8},\n",
       " {'_id': 'Double IPA', 'value': 9.0},\n",
       " {'_id': 'Eisbockmethode', 'value': 26.0},\n",
       " {'_id': 'Erkend Belgisch Abdijbier', 'value': 8.0},\n",
       " {'_id': 'Erkend Belgisch abdijbier', 'value': 8.375},\n",
       " {'_id': 'Export', 'value': 5.2},\n",
       " {'_id': 'Fruitbier', 'value': 3.5},\n",
       " {'_id': 'IPA', 'value': 7.086666666666667},\n",
       " {'_id': 'Imperial IPA', 'value': 8.5},\n",
       " {'_id': 'India Pale Ale', 'value': 7.06},\n",
       " {'_id': 'India pale ale', 'value': 7.0},\n",
       " {'_id': 'Kriek', 'value': 5.1},\n",
       " {'_id': 'NA pils', 'value': 0.5},\n",
       " {'_id': 'Porter', 'value': 7.0},\n",
       " {'_id': 'Rauchbier', 'value': 6.5},\n",
       " {'_id': 'Russian Imperial Stout', 'value': 15.4},\n",
       " {'_id': 'Scotch', 'value': 8.7},\n",
       " {'_id': 'Special Belge', 'value': 8.3},\n",
       " {'_id': 'Speciale Belge', 'value': 5.7},\n",
       " {'_id': 'SpÃ©ciale Belge', 'value': 5.0},\n",
       " {'_id': 'SpÃ©ciale belge', 'value': 5.0},\n",
       " {'_id': 'Tripel', 'value': 9.0},\n",
       " {'_id': 'Tripel blond', 'value': 6.5},\n",
       " {'_id': 'Vlaams bruin', 'value': 8.0},\n",
       " {'_id': 'Vlaams oud bruin', 'value': 5.466666666666666},\n",
       " {'_id': 'Vlaams roodbruin', 'value': 5.0},\n",
       " {'_id': 'Waestvlaams roodbruin', 'value': 9.0},\n",
       " {'_id': 'West-Vlaams roodbruin', 'value': 5.5},\n",
       " {'_id': 'aangezoete geuze', 'value': 4.75},\n",
       " {'_id': 'aardbeienlambiek', 'value': 6.0},\n",
       " {'_id': 'abdijbier', 'value': 7.070786516853932},\n",
       " {'_id': 'abdijbier ale', 'value': 9.5},\n",
       " {'_id': 'abdijbier bruin', 'value': 9.0},\n",
       " {'_id': 'abdijbier hoge gisting', 'value': 6.7},\n",
       " {'_id': 'aged pale', 'value': 7.3},\n",
       " {'_id': 'alcoholarm', 'value': 0.6749999999999999},\n",
       " {'_id': 'alcoholvrij', 'value': 0.0},\n",
       " {'_id': 'ale', 'value': 6.136363636363637},\n",
       " {'_id': 'ale donker', 'value': 8.0},\n",
       " {'_id': 'amber', 'value': 7.052884615384615},\n",
       " {'_id': 'amberblond', 'value': 8.05},\n",
       " {'_id': 'amberbruin', 'value': 6.8},\n",
       " {'_id': 'amberkleurig speciaalbier', 'value': 11.5},\n",
       " {'_id': 'amberrood', 'value': 7.9},\n",
       " {'_id': 'biologisch', 'value': 6.915384615384615},\n",
       " {'_id': 'biologisch bier', 'value': 7.5},\n",
       " {'_id': 'bleek blond', 'value': 6.5},\n",
       " {'_id': 'blond', 'value': 6.944497607655503},\n",
       " {'_id': 'blond (etiketbier)', 'value': 8.0},\n",
       " {'_id': 'blond aperitiefbier', 'value': 7.35},\n",
       " {'_id': 'blond kerstbier', 'value': 10.0},\n",
       " {'_id': 'blond speciaalbier', 'value': 7.875},\n",
       " {'_id': 'blond tafelbier', 'value': 4.8},\n",
       " {'_id': 'blond tarwebier', 'value': 6.8},\n",
       " {'_id': 'blond troebel', 'value': 7.0},\n",
       " {'_id': 'blond-amber', 'value': 7.3},\n",
       " {'_id': 'blonde India Pale Ale', 'value': 9.5},\n",
       " {'_id': 'blonde lager', 'value': 5.0},\n",
       " {'_id': 'blonde tripel', 'value': 7.875},\n",
       " {'_id': 'bockbier', 'value': 6.5},\n",
       " {'_id': 'boekweit', 'value': 6.0},\n",
       " {'_id': 'bokbier', 'value': 5.833333333333333},\n",
       " {'_id': 'bosbessenbier', 'value': 7.0},\n",
       " {'_id': 'bovengisting', 'value': 8.0},\n",
       " {'_id': 'bruin', 'value': 7.302272727272728},\n",
       " {'_id': 'bruin dubbel', 'value': 7.4},\n",
       " {'_id': 'bruin kerstbier', 'value': 8.5},\n",
       " {'_id': 'bruin speciaalbier', 'value': 6.5},\n",
       " {'_id': 'bruinrood', 'value': 8.2},\n",
       " {'_id': 'brutbier', 'value': 8.5},\n",
       " {'_id': 'chocoladebier', 'value': 7.1},\n",
       " {'_id': 'donker', 'value': 8.458620689655174},\n",
       " {'_id': 'donker amber', 'value': 8.5},\n",
       " {'_id': 'donker blond', 'value': 6.0},\n",
       " {'_id': 'donker kerstbier', 'value': 8.5},\n",
       " {'_id': 'donker seizoensbier', 'value': 10.0},\n",
       " {'_id': 'donker speciaalbier', 'value': 9.666666666666666},\n",
       " {'_id': 'donkeramber', 'value': 6.3},\n",
       " {'_id': 'donkerblond', 'value': 6.583333333333333},\n",
       " {'_id': 'donkerblond abdijbier', 'value': 8.5},\n",
       " {'_id': 'donkerbruin', 'value': 7.95},\n",
       " {'_id': 'donkere ale', 'value': 6.3},\n",
       " {'_id': 'donkere scotch', 'value': 7.9},\n",
       " {'_id': 'donkere tripel', 'value': 10.0},\n",
       " {'_id': 'donkerrood', 'value': 5.5},\n",
       " {'_id': 'dubbel', 'value': 6.949999999999999},\n",
       " {'_id': 'dubbel gehopt', 'value': 6.8},\n",
       " {'_id': 'dubbele IPA', 'value': 7.8},\n",
       " {'_id': 'etiketbier', 'value': 6.404000000000001},\n",
       " {'_id': 'export', 'value': 2.3},\n",
       " {'_id': 'export pils', 'value': 5.0},\n",
       " {'_id': 'faro', 'value': 4.242857142857143},\n",
       " {'_id': 'frambozenbier', 'value': 4.0},\n",
       " {'_id': 'fruibier', 'value': 6.5},\n",
       " {'_id': 'fruit- en bloemenbier', 'value': 9.0},\n",
       " {'_id': 'fruitbier', 'value': 4.756097560975609},\n",
       " {'_id': 'fruitbier (kriekensap)', 'value': 3.5},\n",
       " {'_id': 'fruitbier op basis van lambiek', 'value': 3.75},\n",
       " {'_id': 'fruitbier-pils', 'value': 4.0},\n",
       " {'_id': 'fruitig witbier', 'value': 5.0},\n",
       " {'_id': 'gemengde gisting', 'value': 7.833333333333333},\n",
       " {'_id': 'gerstewijn', 'value': 9.5},\n",
       " {'_id': 'geuze', 'value': 5.619230769230769},\n",
       " {'_id': 'glutenvrij pilsener', 'value': 5.2},\n",
       " {'_id': 'goud', 'value': 7.8},\n",
       " {'_id': 'goudblond', 'value': 7.446666666666666},\n",
       " {'_id': 'goudblonde tripel', 'value': 8.0},\n",
       " {'_id': 'goudkleur', 'value': 7.0},\n",
       " {'_id': 'goudkleurig', 'value': 7.5},\n",
       " {'_id': 'hoge gisting', 'value': 7.443099273607752},\n",
       " {'_id': 'hoge gisting (etiketbier)', 'value': 6.5},\n",
       " {'_id': 'honingbier', 'value': 7.541666666666667},\n",
       " {'_id': 'hoogblond', 'value': 8.5},\n",
       " {'_id': 'imperial stout', 'value': 9.5},\n",
       " {'_id': 'imperial/double IPA', 'value': 8.0},\n",
       " {'_id': 'kerstbier', 'value': 8.590909090909092},\n",
       " {'_id': 'koper-amber', 'value': 5.2},\n",
       " {'_id': 'koperkleurig', 'value': 6.5},\n",
       " {'_id': 'koperkleurig India Pale Ale', 'value': 6.0},\n",
       " {'_id': 'kriek', 'value': 4.6923076923076925},\n",
       " {'_id': 'kriekenbier', 'value': 8.5},\n",
       " {'_id': 'kriekenlambiek', 'value': 5.5},\n",
       " {'_id': 'kruidenbier', 'value': 7.5},\n",
       " {'_id': 'lage gisting', 'value': 5.072222222222223},\n",
       " {'_id': 'lager', 'value': 5.45},\n",
       " {'_id': 'lambiek', 'value': 4.956666666666666},\n",
       " {'_id': 'lambiek/kriek', 'value': 6.166666666666667},\n",
       " {'_id': 'lentebier', 'value': 6.5},\n",
       " {'_id': 'licht bruin', 'value': 4.7},\n",
       " {'_id': 'licht rood', 'value': 6.5},\n",
       " {'_id': 'licht troebel', 'value': 6.5},\n",
       " {'_id': 'lichtamber', 'value': 7.0},\n",
       " {'_id': 'lichtblond', 'value': 5.666666666666667},\n",
       " {'_id': 'lichtdonker', 'value': 6.5},\n",
       " {'_id': 'mengbier', 'value': 7.5},\n",
       " {'_id': 'mengbier met lambiek', 'value': 7.0},\n",
       " {'_id': 'met cajunkruiden', 'value': 4.0},\n",
       " {'_id': 'met pompoen', 'value': 0.0},\n",
       " {'_id': 'mosterdbier', 'value': 7.0},\n",
       " {'_id': 'oak aged', 'value': 9.583333333333334},\n",
       " {'_id': 'okerblond', 'value': 8.5},\n",
       " {'_id': 'ongefilterd blond bier', 'value': 6.5},\n",
       " {'_id': 'oud bruin', 'value': 5.907692307692309},\n",
       " {'_id': 'oude geuze', 'value': 6.0},\n",
       " {'_id': 'oude kriek', 'value': 6.5},\n",
       " {'_id': 'paasbier', 'value': 8.0},\n",
       " {'_id': 'pils', 'value': 5.044827586206896},\n",
       " {'_id': 'pilsener', 'value': 5.0},\n",
       " {'_id': 'porter', 'value': 8.0},\n",
       " {'_id': 'quadrupel', 'value': 10.385714285714286},\n",
       " {'_id': 'robijnrood', 'value': 7.016666666666666},\n",
       " {'_id': 'robijnrood speciaalbier', 'value': 11.0},\n",
       " {'_id': 'rood', 'value': 8.4},\n",
       " {'_id': 'roodbruin', 'value': 7.3133333333333335},\n",
       " {'_id': 'roodbruin abdijbier', 'value': 9.0},\n",
       " {'_id': 'roodbruine ale', 'value': 5.1},\n",
       " {'_id': 'rookbier', 'value': 6.5},\n",
       " {'_id': 'rosÃ©bier', 'value': 5.2},\n",
       " {'_id': 'saison', 'value': 6.23448275862069},\n",
       " {'_id': 'scotch', 'value': 7.9},\n",
       " {'_id': 'seizoensgebonden', 'value': 0.0},\n",
       " {'_id': 'single hop', 'value': 10.0},\n",
       " {'_id': 'smoked Porter', 'value': 7.0},\n",
       " {'_id': 'speciaalbier', 'value': 7.859999999999999},\n",
       " {'_id': 'special belge', 'value': 7.5},\n",
       " {'_id': 'speciale belge', 'value': 6.128571428571429},\n",
       " {'_id': 'speculaasbier', 'value': 8.5},\n",
       " {'_id': 'spelt', 'value': 5.45},\n",
       " {'_id': 'speltbier', 'value': 6.0},\n",
       " {'_id': 'spontane gisting', 'value': 5.333333333333333},\n",
       " {'_id': 'spÃ©ciale belge', 'value': 5.7},\n",
       " {'_id': 'sterk blond', 'value': 8.1},\n",
       " {'_id': 'sterk donker', 'value': 8.566666666666666},\n",
       " {'_id': 'stout', 'value': 7.799999999999998},\n",
       " {'_id': 'streekbier', 'value': 6.785714285714286},\n",
       " {'_id': 'strogeel', 'value': 8.0},\n",
       " {'_id': 'suikervrij', 'value': 8.5},\n",
       " {'_id': 'tabaksbier', 'value': 8.5},\n",
       " {'_id': 'tafelbier', 'value': 1.8184210526315787},\n",
       " {'_id': 'tarwebier', 'value': 5.9},\n",
       " {'_id': 'tarwetripel', 'value': 7.5},\n",
       " {'_id': 'trappist', 'value': 7.883333333333332},\n",
       " {'_id': 'tripel', 'value': 8.445098039215686},\n",
       " {'_id': 'tripel ', 'value': 8.05},\n",
       " {'_id': 'tripel (etiketbier)', 'value': 7.4},\n",
       " {'_id': 'tripel India Pale Ale', 'value': 9.0},\n",
       " {'_id': 'tripel kerstbier', 'value': 8.0},\n",
       " {'_id': 'tripel-gueuze', 'value': 7.0},\n",
       " {'_id': 'triple', 'value': 8.0},\n",
       " {'_id': 'troebel blond', 'value': 8.25},\n",
       " {'_id': 'winterbier', 'value': 7.8875},\n",
       " {'_id': 'wit', 'value': 4.9},\n",
       " {'_id': 'witbier', 'value': 4.968253968253968},\n",
       " {'_id': 'zoete stout', 'value': 5.0},\n",
       " {'_id': 'zwarte-bessenbier', 'value': 5.75}]"
      ]
     },
     "execution_count": 505,
     "metadata": {},
     "output_type": "execute_result"
    }
   ],
   "source": [
    "def avg_pct_MR():\n",
    "    \n",
    "    map_fn = Code(\"\"\"    \n",
    "    function() {\n",
    "        var beer = this;        \n",
    "        beer.type.forEach(function(t) {\n",
    "            emit(t, {count: 1, total: beer.alcoholpercentage});            \n",
    "        });\n",
    "    };    \n",
    "    \"\"\")\n",
    "    \n",
    "    red_fn = Code(\"\"\"\n",
    "    function(type, percentages) {\n",
    "        acc = {count: 0, total: 0};\n",
    "        \n",
    "        percentages.forEach(function(p) {\n",
    "            acc.count += p.count\n",
    "            acc.total += p.total\n",
    "        });\n",
    "        \n",
    "        return acc;\n",
    "    };        \n",
    "    \"\"\")\n",
    "    \n",
    "    fin_fn = Code(\"\"\"   \n",
    "    function(type, acc) {        \n",
    "        return acc.total / acc.count;\n",
    "    };\n",
    "    \"\"\")\n",
    "    \n",
    "    return db.beers.inline_map_reduce(map_fn, red_fn, finalize = fin_fn) \n",
    "\n",
    "avg_per_type = avg_pct_MR()\n",
    "\n",
    "avg_per_type"
   ]
  },
  {
   "cell_type": "code",
   "execution_count": 506,
   "metadata": {
    "collapsed": false
   },
   "outputs": [],
   "source": [
    "avg_pct_lager = next(b['value'] for b in avg_per_type if b.get('_id') == 'lager')\n",
    "\n",
    "assert 5.45 == avg_pct_lager, \"incorrect average alcohol percentage for lager: %s\" % avg_pct_lager"
   ]
  },
  {
   "cell_type": "markdown",
   "metadata": {},
   "source": [
    "If you've made it to here and completed all exercises correctly, pat yourself on the back, open up a cold Duvel and enjoy some well-earned rest!\n",
    "\n",
    "[You've done it again](https://www.youtube.com/watch?v=n3UKJq_lxcM)! \n"
   ]
  },
  {
   "cell_type": "code",
   "execution_count": null,
   "metadata": {
    "collapsed": true
   },
   "outputs": [],
   "source": []
  }
 ],
 "metadata": {
  "kernelspec": {
   "display_name": "Python 3",
   "language": "python",
   "name": "python3"
  },
  "language_info": {
   "codemirror_mode": {
    "name": "ipython",
    "version": 3
   },
   "file_extension": ".py",
   "mimetype": "text/x-python",
   "name": "python",
   "nbconvert_exporter": "python",
   "pygments_lexer": "ipython3",
   "version": "3.5.1"
  }
 },
 "nbformat": 4,
 "nbformat_minor": 0
}
